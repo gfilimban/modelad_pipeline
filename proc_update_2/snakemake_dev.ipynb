{
 "cells": [
  {
   "cell_type": "code",
   "execution_count": 1,
   "id": "e39caf19-421e-470c-885c-aac8d7e2dc48",
   "metadata": {},
   "outputs": [],
   "source": [
    "import pandas as pd\n",
    "import pdb\n",
    "import numpy as np\n",
    "import itertools\n",
    "import re\n",
    "from utils import *\n",
    "from sm_utils import *\n",
    "\n",
    "from snakemake.io import expand\n",
    "import yaml"
   ]
  },
  {
   "cell_type": "code",
   "execution_count": 2,
   "id": "338cfdd8-05e6-4c85-9464-2f43604fa1c7",
   "metadata": {},
   "outputs": [],
   "source": [
    "config_file = 'config.yml'\n",
    "with open(config_file) as f:\n",
    "    config = yaml.safe_load(f)"
   ]
  },
  {
   "cell_type": "code",
   "execution_count": 21,
   "id": "9f548216-11b2-462e-8170-a9e981392de8",
   "metadata": {},
   "outputs": [],
   "source": [
    "def parse_config_file(fname,\n",
    "                      meta_fname,\n",
    "                      p_meta_fname,\n",
    "                      geno_fname,\n",
    "                      auto_dedupe=True):\n",
    "\n",
    "    \"\"\"\n",
    "    Parameters:\n",
    "        fname (str): Path to config file fname. One line per input fastq.\n",
    "        meta_fname (str): Path to file with metadata information.\n",
    "        p_meta_fname (str): Path to pseudochromosome metadata information\n",
    "        geno_fname (str): Path to genotype metadata information\n",
    "        datasets_per_run (int): Number of datasets to process in each TALON run\n",
    "        auto_dedupe (bool): Automatically deduplicate duplicate fastqs that result from\n",
    "            successive Porechop rounds\n",
    "\n",
    "    Returns:\n",
    "        df (pandas DataFrame): DF w/ pipeline information; one line per fastq\n",
    "        dataset_df (pandas DataFrame): DF w/ dataset information; one line per mouse\n",
    "    \"\"\"\n",
    "\n",
    "    df, p_df = parse_config_common(fname,\n",
    "                          meta_fname,\n",
    "                          p_meta_fname,\n",
    "                          geno_fname,\n",
    "                          auto_dedupe=True)\n",
    "\n",
    "    return df, p_df\n",
    "\n",
    "def parse_config_common(fname,\n",
    "                      meta_fname,\n",
    "                      p_meta_fname,\n",
    "                      geno_fname,\n",
    "                      auto_dedupe=True):\n",
    "\n",
    "    df = pd.read_csv(fname, sep='\\t')\n",
    "\n",
    "    ############ Basename + fname\n",
    "    df['basename'] = df.fname.str.rsplit('/', n=1, expand=True)[1]\n",
    "    df['path'] = df.fname.str.rsplit('/', n=1, expand=True)[0]\n",
    "\n",
    "    ############ Dataset + flowcell df\n",
    "\n",
    "    # get flowcell\n",
    "    exp = '.*\\/[\\w-]+_(\\d+)(?:_t\\d+)?\\.fastq(?:.gz)?'\n",
    "    df['flowcell'] = df.fname.str.extract(exp)\n",
    "\n",
    "    # check to make sure the same file stem isn't there more than once\n",
    "    # (can happen if different flow cells needed different amounts of chopping)\n",
    "    # df['file_stem'] = df.basename.str.rsplit('_', n=1, expand=True)[0]\n",
    "    exp = '.*\\/([\\w-]+_\\d+)(?:_t\\d+)?\\.fastq(?:.gz)?'\n",
    "    df['file_stem'] = df.fname.str.extract(exp)\n",
    "    df['chop_num'] = df.basename.str.rsplit('.fastq', expand=True)[0].str.rsplit('_t', expand=True)[1].astype(float)\n",
    "    if df.file_stem.duplicated().any():\n",
    "      dupe_stems = df.loc[df.file_stem.duplicated(keep=False), 'basename'].tolist()\n",
    "      if not auto_dedupe:\n",
    "          raise ValueError(f'Files {dupe_stems} seem to be duplicated. Check config file.')\n",
    "      else:\n",
    "          print(f'Files {dupe_stems} seem to be duplicated. Automatically removing lower chop numbers')\n",
    "          df = df.sort_values(by='chop_num', ascending=False)\n",
    "          df = df.drop_duplicates(subset='file_stem', keep='first')\n",
    "\n",
    "    # extract the sample name\n",
    "    temp = df.basename.str.split('_', expand=True)[[0,1]]#.str.join('_')\n",
    "    df['sample_temp'] = temp[0]+'_'+temp[1]\n",
    "\n",
    "    # extract the mouse id\n",
    "    df['mouse_id'] = df['sample_temp'].str.split('_', expand=True)[1]\n",
    "\n",
    "    # extract the \"study\" name\n",
    "    exp = '^(ad[0-9]+)'\n",
    "    df['study'] = df.basename.str.extract(exp)\n",
    "\n",
    "    # merge in metadata\n",
    "    meta = process_meta(meta_fname)\n",
    "    df['mouse_id'] = df['mouse_id'].astype('int')\n",
    "    df = df.merge(meta, how='left', on='mouse_id')\n",
    "\n",
    "    # merge in genotype metadata\n",
    "    g_meta = pd.read_csv(geno_fname, sep='\\t')\n",
    "    df = df.merge(g_meta,\n",
    "                  how='left',\n",
    "                  on='genotype')\n",
    "\n",
    "    # get tech rep numbers -- each mouse has multiple reps\n",
    "    # and are therefore technical reps\n",
    "    df['flowcell'] = df.sort_values(['genotype', 'mouse_id'],\n",
    "                              ascending=[True, True])\\\n",
    "                              .groupby(['mouse_id']) \\\n",
    "                              .cumcount() + 1\n",
    "\n",
    "    # sample should be the genotype + age + sex + tissue\n",
    "    df['sample'] = df.genotype+'_'+ \\\n",
    "                 df.sex+'_'+ \\\n",
    "                 df.age+'_'+ \\\n",
    "                 df.tissue\n",
    "\n",
    "    # get biorep numbers -- each mouse_id is a different mouse\n",
    "    # and therefore a different biorep\n",
    "    temp = df[['sample', 'mouse_id']].drop_duplicates()\n",
    "    temp.reset_index(inplace=True, drop=True)\n",
    "    temp['biorep_num'] = temp.sort_values(['sample', 'mouse_id'],\n",
    "                              ascending=[True, True])\\\n",
    "                              .groupby(['sample']) \\\n",
    "                              .cumcount()+1\n",
    "    df = df.merge(temp, how='left',\n",
    "                on=['sample', 'mouse_id'])\n",
    "\n",
    "    # talon dataset should be sample + bio rep\n",
    "    df['dataset'] = df['sample']+'_'+df['biorep_num'].astype(str)\n",
    "\n",
    "    # source for cerberus should be study + sample\n",
    "    df['source'] = df['study']+'_'+df['sample']\n",
    "\n",
    "    # get and verify humanized status\n",
    "    temp = df.loc[(df.pseudochrom_needed==False)&(df.genotype.str.contains('h'))].copy(deep=True)\n",
    "    # if len(temp.index) >= 1:\n",
    "    #   genotypes = temp.genotype.unique().tolist()\n",
    "    #   warnings.warn(f'Config found non-pseudochrom mouse w/ genotypes {genotypes}, is this expected?')\n",
    "\n",
    "    # if not include_pseudochrom:\n",
    "    #     df = df.loc[df.pseudochrom_needed==False].copy(deep=True)\n",
    "\n",
    "    # get pseudochromosome / reference : genotype df\n",
    "    # else:\n",
    "    def format_pseudochrom_cols(df, col):\n",
    "      \"\"\"\n",
    "      Format hgene, mgene, and pseudochromosome names columns\n",
    "      to either replace NaNs with \"dummy\" and and to string\n",
    "      split entries with more than one\n",
    "      \"\"\"\n",
    "      inds = df.loc[(df[col].isnull())].index\n",
    "      df.loc[inds, col] = 'dummy'\n",
    "      df[col] = df[col].str.split(',')\n",
    "      df[col] = df.apply(lambda x: tuple(sorted(x[col])), axis=1)\n",
    "      return df\n",
    "\n",
    "    # for c in ['pseudochrom', 'human_gene', 'mouse_gene']:\n",
    "    for c in ['pseudochrom']:\n",
    "      df = format_pseudochrom_cols(df, c)\n",
    "\n",
    "    # make sure the correspondance between\n",
    "    # genotype:pseudochromosomes is 1:1\n",
    "    temp = df.loc[df.pseudochrom_needed==True].copy(deep=True)\n",
    "    temp = temp[['pseudochrom', 'genotype']].drop_duplicates()\n",
    "    dupe_genotypes = temp.loc[temp.genotype.duplicated()].genotype.unique().tolist()\n",
    "    if len(dupe_genotypes) > 1:\n",
    "      raise ValueError(f'Found genotype(s) {dupe_genotypes} w/ multiple pseudochromosome settings')\n",
    "\n",
    "    df['flowcell'] = df.flowcell.astype(str)\n",
    "    df['biorep_num'] = df.biorep_num.astype(str)\n",
    "\n",
    "    # get a table that matches genotype + pseudochrom + human gene + mouse gene\n",
    "    temp = df.explode('pseudochrom')\n",
    "    p_meta = pd.read_csv(p_meta_fname, sep='\\t')\n",
    "    p_meta.fillna('dummy', inplace=True)\n",
    "    p_df = temp.merge(p_meta, on='pseudochrom')\n",
    "\n",
    "    return df, p_df\n",
    "\n",
    "def parse_config_file_analysis(fname,\n",
    "                      meta_fname,\n",
    "                      p_meta_fname,\n",
    "                      geno_fname,\n",
    "                      an_meta_fname,\n",
    "                      auto_dedupe=True):\n",
    "\n",
    "    \"\"\"\n",
    "    Parameters:\n",
    "        fname (str): Path to config file fname. One line per input fastq.\n",
    "        meta_fname (str): Path to file with metadata information.\n",
    "        p_meta_fname (str): Path to pseudochromosome metadata information\n",
    "        geno_fname (str): Path to genotype metadata information\n",
    "        an_meta_fname (str): Path to analysis metadata information\n",
    "        datasets_per_run (int): Number of datasets to process in each TALON run\n",
    "        auto_dedupe (bool): Automatically deduplicate duplicate fastqs that result from\n",
    "            successive Porechop rounds\n",
    "        include_pseudochrom (bool): Include models with pseudochrom loci, which need\n",
    "            some preprocessing / different treatment\n",
    "\n",
    "    Returns:\n",
    "        df (pandas DataFrame): DF w/ pipeline information; one line per fastq\n",
    "        dataset_df (pandas DataFrame): DF w/ dataset information; one line per mouse\n",
    "    \"\"\"\n",
    "\n",
    "    df, p_df = parse_config_common(fname,\n",
    "                          meta_fname,\n",
    "                          p_meta_fname,\n",
    "                          geno_fname,\n",
    "                          auto_dedupe=True)\n",
    "    \n",
    "\n",
    "    # limit to just the studies and genotypes requested\n",
    "    an_df = pd.read_csv(an_meta_fname, sep='\\t')\n",
    "    i = len(an_df[['genotype', 'study']].drop_duplicates().index)\n",
    "    an_df['genotype_study'] = an_df['genotype']+' '+an_df['study']\n",
    "    df['genotype_study'] = df['genotype']+' '+df['study']\n",
    "    p_df['genotype_study'] = p_df['genotype']+' '+p_df['study']\n",
    "    # import pdb; pdb.set_trace()\n",
    "    # p_df = p_df.loc[(p_df.genotype.isin(genotypes))&\\\n",
    "    #                 (p_df.study.isin(studies))]\n",
    "    p_df = p_df.loc[p_df.genotype_study.isin(an_df.genotype_study.tolist())]\n",
    "    p_df.drop('genotype_study', axis=1, inplace=True)\n",
    "    i2 = len(p_df[['genotype', 'study']].drop_duplicates().index)\n",
    "    df = df.loc[df.genotype_study.isin(an_df.genotype_study.tolist())]\n",
    "    df.drop('genotype_study', axis=1, inplace=True)\n",
    "    \n",
    "    \n",
    "    # df = df.loc[(df.genotype.isin(genotypes))&\\\n",
    "    #             (df.study.isin(studies))]\n",
    "    i3 = len(p_df[['genotype', 'study']].drop_duplicates().index)\n",
    "    \n",
    "    genotypes = an_df.genotype.unique().tolist()\n",
    "    studies = an_df.study.unique().tolist()\n",
    " \n",
    "    if not (i==i2==i3):\n",
    "        genotypes = list(set(genotypes)-\\\n",
    "                         set(df.genotype.unique().tolist()))\n",
    "        studies = list(set(studies)-\\\n",
    "                         set(df.study.unique().tolist()))\n",
    "        warnings.warn(f'Genotypes {genotypes} and studies {studies} not found. Is this expected?')\n",
    "\n",
    "    # assign a cerberus run to each \"sample\" (study+genotype+sex+age+tissue)\n",
    "    # but first sort on study and sample such that they will always be ordered in the same way\n",
    "    # this should freeze our results\n",
    "    gb_cols = ['study', 'genotype', 'sex', 'age', 'tissue']\n",
    "    df = df.sort_values(by=gb_cols, ascending=True)\n",
    "    temp = df.copy(deep=True)\n",
    "    temp = temp[gb_cols].groupby(gb_cols).count().reset_index()\n",
    "    temp['cerberus_run'] = [i+1 for i in range(len(temp.index))]\n",
    "    df = df.merge(temp, how='left', on=gb_cols)\n",
    "    df['cerberus_run'] = df.cerberus_run.astype(str)\n",
    "\n",
    "    # add in analysis stuff\n",
    "    an_df = pd.read_csv(an_meta_fname, sep='\\t')\n",
    "    p_df = p_df.merge(an_df, how='left',\n",
    "                  on=['genotype', 'study'])\n",
    "\n",
    "    # add cerberus run info\n",
    "    p_df = p_df.merge(df[gb_cols+['cerberus_run']].drop_duplicates(), how='left',\n",
    "                 on=gb_cols)\n",
    "\n",
    "    # sanitize genotype alias internally (int) w/ characters better for file names\n",
    "    exp = '[^0-9a-zA-Z-_]+'\n",
    "    p_df.loc[p_df.genotype_alias.isnull(), 'genotype_alias'] = p_df.loc[p_df.genotype_alias.isnull(), 'genotype']\n",
    "    p_df['genotype_alias_int'] = p_df.genotype_alias.str.replace(exp, '_', regex=True)\n",
    "\n",
    "    # add in columns for comparisons\n",
    "    p_df['genotype_sex'] = p_df['genotype_alias_int']+'_'+p_df['sex']\n",
    "\n",
    "    # sanitize analysis\n",
    "    exp = '[^0-9a-zA-Z-_]+'\n",
    "    p_df['analysis'] = p_df.analysis.str.replace(exp, '_', regex=True)\n",
    "\n",
    "    return df, p_df"
   ]
  },
  {
   "cell_type": "code",
   "execution_count": 22,
   "id": "6d298026-ec3a-4fcd-a77e-480b940901de",
   "metadata": {},
   "outputs": [
    {
     "name": "stdout",
     "output_type": "stream",
     "text": [
      "> \u001b[0;32m<ipython-input-21-e50924320f75>\u001b[0m(217)\u001b[0;36mparse_config_file_analysis\u001b[0;34m()\u001b[0m\n",
      "\u001b[0;32m    215 \u001b[0;31m\u001b[0;34m\u001b[0m\u001b[0m\n",
      "\u001b[0m\u001b[0;32m    216 \u001b[0;31m    \u001b[0;32mimport\u001b[0m \u001b[0mpdb\u001b[0m\u001b[0;34m;\u001b[0m \u001b[0mpdb\u001b[0m\u001b[0;34m.\u001b[0m\u001b[0mset_trace\u001b[0m\u001b[0;34m(\u001b[0m\u001b[0;34m)\u001b[0m\u001b[0;34m\u001b[0m\u001b[0;34m\u001b[0m\u001b[0m\n",
      "\u001b[0m\u001b[0;32m--> 217 \u001b[0;31m    \u001b[0;32mif\u001b[0m \u001b[0;32mnot\u001b[0m \u001b[0;34m(\u001b[0m\u001b[0mi\u001b[0m\u001b[0;34m==\u001b[0m\u001b[0mi2\u001b[0m\u001b[0;34m==\u001b[0m\u001b[0mi3\u001b[0m\u001b[0;34m)\u001b[0m\u001b[0;34m:\u001b[0m\u001b[0;34m\u001b[0m\u001b[0;34m\u001b[0m\u001b[0m\n",
      "\u001b[0m\u001b[0;32m    218 \u001b[0;31m        genotypes = list(set(genotypes)-\\\n",
      "\u001b[0m\u001b[0;32m    219 \u001b[0;31m                         set(df.genotype.unique().tolist()))\n",
      "\u001b[0m\n"
     ]
    },
    {
     "name": "stdin",
     "output_type": "stream",
     "text": [
      "ipdb>  genotypes\n"
     ]
    },
    {
     "name": "stdout",
     "output_type": "stream",
     "text": [
      "['5xFAD-HEMI_Clu-h2kbKI-HO', '5xFAD-WT', 'B6J', 'hABKI-Swe-WT', 'hTREM2KI-WT']\n"
     ]
    },
    {
     "name": "stdin",
     "output_type": "stream",
     "text": [
      "ipdb>  df.genotype.unique()\n"
     ]
    },
    {
     "name": "stdout",
     "output_type": "stream",
     "text": [
      "array(['5xFAD-WT', '5xFAD-HEMI_Clu-h2kbKI-HO', 'hTREM2KI-WT',\n",
      "       'hABKI-Swe-WT'], dtype=object)\n"
     ]
    },
    {
     "name": "stdin",
     "output_type": "stream",
     "text": [
      "ipdb>  n\n"
     ]
    },
    {
     "name": "stdout",
     "output_type": "stream",
     "text": [
      "> \u001b[0;32m<ipython-input-21-e50924320f75>\u001b[0m(218)\u001b[0;36mparse_config_file_analysis\u001b[0;34m()\u001b[0m\n",
      "\u001b[0;32m    216 \u001b[0;31m    \u001b[0;32mimport\u001b[0m \u001b[0mpdb\u001b[0m\u001b[0;34m;\u001b[0m \u001b[0mpdb\u001b[0m\u001b[0;34m.\u001b[0m\u001b[0mset_trace\u001b[0m\u001b[0;34m(\u001b[0m\u001b[0;34m)\u001b[0m\u001b[0;34m\u001b[0m\u001b[0;34m\u001b[0m\u001b[0m\n",
      "\u001b[0m\u001b[0;32m    217 \u001b[0;31m    \u001b[0;32mif\u001b[0m \u001b[0;32mnot\u001b[0m \u001b[0;34m(\u001b[0m\u001b[0mi\u001b[0m\u001b[0;34m==\u001b[0m\u001b[0mi2\u001b[0m\u001b[0;34m==\u001b[0m\u001b[0mi3\u001b[0m\u001b[0;34m)\u001b[0m\u001b[0;34m:\u001b[0m\u001b[0;34m\u001b[0m\u001b[0;34m\u001b[0m\u001b[0m\n",
      "\u001b[0m\u001b[0;32m--> 218 \u001b[0;31m        genotypes = list(set(genotypes)-\\\n",
      "\u001b[0m\u001b[0;32m    219 \u001b[0;31m                         set(df.genotype.unique().tolist()))\n",
      "\u001b[0m\u001b[0;32m    220 \u001b[0;31m        studies = list(set(studies)-\\\n",
      "\u001b[0m\n"
     ]
    },
    {
     "name": "stdin",
     "output_type": "stream",
     "text": [
      "ipdb>  c\n"
     ]
    },
    {
     "name": "stderr",
     "output_type": "stream",
     "text": [
      "/Users/fairliereese/miniconda3/lib/python3.7/site-packages/ipykernel_launcher.py:218: UserWarning: Genotypes ['B6J'] and studies [] not found. Is this expected?\n"
     ]
    }
   ],
   "source": [
    "config_tsv = 'config.tsv'\n",
    "p_meta_tsv = 'pseudochromosome_metadata.tsv'\n",
    "meta_tsv = 'mouse_metadata.tsv'\n",
    "geno_tsv = 'genotype_metadata.tsv'\n",
    "an_meta_tsv = 'negar_analysis_config.tsv'\n",
    "auto_dedupe = True\n",
    "\n",
    "df, p_df = parse_config_file_analysis(config_tsv,\n",
    "                       meta_tsv,\n",
    "                       p_meta_tsv,\n",
    "                       geno_tsv,\n",
    "                       an_meta_tsv,\n",
    "                       auto_dedupe=auto_dedupe)"
   ]
  },
  {
   "cell_type": "code",
   "execution_count": 23,
   "id": "c8c7b326-7141-4905-ab76-91d99a9cc9eb",
   "metadata": {},
   "outputs": [
    {
     "data": {
      "text/html": [
       "<div>\n",
       "<style scoped>\n",
       "    .dataframe tbody tr th:only-of-type {\n",
       "        vertical-align: middle;\n",
       "    }\n",
       "\n",
       "    .dataframe tbody tr th {\n",
       "        vertical-align: top;\n",
       "    }\n",
       "\n",
       "    .dataframe thead th {\n",
       "        text-align: right;\n",
       "    }\n",
       "</style>\n",
       "<table border=\"1\" class=\"dataframe\">\n",
       "  <thead>\n",
       "    <tr style=\"text-align: right;\">\n",
       "      <th></th>\n",
       "      <th>platform</th>\n",
       "      <th>fname</th>\n",
       "      <th>basename</th>\n",
       "      <th>path</th>\n",
       "      <th>flowcell</th>\n",
       "      <th>file_stem</th>\n",
       "      <th>chop_num</th>\n",
       "      <th>sample_temp</th>\n",
       "      <th>mouse_id</th>\n",
       "      <th>study</th>\n",
       "      <th>...</th>\n",
       "      <th>source</th>\n",
       "      <th>human_gene</th>\n",
       "      <th>mouse_gene</th>\n",
       "      <th>locus_type</th>\n",
       "      <th>notes</th>\n",
       "      <th>analysis</th>\n",
       "      <th>genotype_alias</th>\n",
       "      <th>cerberus_run</th>\n",
       "      <th>genotype_alias_int</th>\n",
       "      <th>genotype_sex</th>\n",
       "    </tr>\n",
       "  </thead>\n",
       "  <tbody>\n",
       "  </tbody>\n",
       "</table>\n",
       "<p>0 rows × 30 columns</p>\n",
       "</div>"
      ],
      "text/plain": [
       "Empty DataFrame\n",
       "Columns: [platform, fname, basename, path, flowcell, file_stem, chop_num, sample_temp, mouse_id, study, sex, age, tissue, genotype, genotype_notes, pseudochrom_needed, pseudochrom, sample, biorep_num, dataset, source, human_gene, mouse_gene, locus_type, notes, analysis, genotype_alias, cerberus_run, genotype_alias_int, genotype_sex]\n",
       "Index: []\n",
       "\n",
       "[0 rows x 30 columns]"
      ]
     },
     "execution_count": 23,
     "metadata": {},
     "output_type": "execute_result"
    }
   ],
   "source": [
    "p_df.loc[p_df.analysis.isnull()]"
   ]
  },
  {
   "cell_type": "code",
   "execution_count": 24,
   "id": "b10e6694-4052-42f0-8795-06b53d54c803",
   "metadata": {},
   "outputs": [
    {
     "data": {
      "text/html": [
       "<div>\n",
       "<style scoped>\n",
       "    .dataframe tbody tr th:only-of-type {\n",
       "        vertical-align: middle;\n",
       "    }\n",
       "\n",
       "    .dataframe tbody tr th {\n",
       "        vertical-align: top;\n",
       "    }\n",
       "\n",
       "    .dataframe thead th {\n",
       "        text-align: right;\n",
       "    }\n",
       "</style>\n",
       "<table border=\"1\" class=\"dataframe\">\n",
       "  <thead>\n",
       "    <tr style=\"text-align: right;\">\n",
       "      <th></th>\n",
       "      <th>study</th>\n",
       "      <th>genotype</th>\n",
       "    </tr>\n",
       "  </thead>\n",
       "  <tbody>\n",
       "    <tr>\n",
       "      <th>0</th>\n",
       "      <td>ad002</td>\n",
       "      <td>5xFAD-WT</td>\n",
       "    </tr>\n",
       "    <tr>\n",
       "      <th>2</th>\n",
       "      <td>ad004</td>\n",
       "      <td>hTREM2KI-WT</td>\n",
       "    </tr>\n",
       "    <tr>\n",
       "      <th>14</th>\n",
       "      <td>ad006</td>\n",
       "      <td>hABKI-Swe-WT</td>\n",
       "    </tr>\n",
       "    <tr>\n",
       "      <th>26</th>\n",
       "      <td>ad003</td>\n",
       "      <td>5xFAD-HEMI_Clu-h2kbKI-HO</td>\n",
       "    </tr>\n",
       "  </tbody>\n",
       "</table>\n",
       "</div>"
      ],
      "text/plain": [
       "    study                  genotype\n",
       "0   ad002                  5xFAD-WT\n",
       "2   ad004               hTREM2KI-WT\n",
       "14  ad006              hABKI-Swe-WT\n",
       "26  ad003  5xFAD-HEMI_Clu-h2kbKI-HO"
      ]
     },
     "execution_count": 24,
     "metadata": {},
     "output_type": "execute_result"
    }
   ],
   "source": [
    "p_df[['study', 'genotype']].drop_duplicates()\n"
   ]
  },
  {
   "cell_type": "code",
   "execution_count": null,
   "id": "998f937e-52a9-4b06-96fb-d75e34ecd9e7",
   "metadata": {},
   "outputs": [],
   "source": []
  },
  {
   "cell_type": "code",
   "execution_count": null,
   "id": "bde91308-88d4-41ec-ab7b-17c68d9faf04",
   "metadata": {},
   "outputs": [],
   "source": []
  },
  {
   "cell_type": "code",
   "execution_count": null,
   "id": "6febf275-3e85-45c2-bb52-0988714c246d",
   "metadata": {},
   "outputs": [],
   "source": []
  },
  {
   "cell_type": "code",
   "execution_count": null,
   "id": "f6649552-56b2-4c82-bb1d-f1cec4003bf7",
   "metadata": {},
   "outputs": [],
   "source": []
  },
  {
   "cell_type": "code",
   "execution_count": null,
   "id": "a8883de5-4720-408c-89ac-8a7b1bf39863",
   "metadata": {},
   "outputs": [],
   "source": []
  },
  {
   "cell_type": "code",
   "execution_count": null,
   "id": "da1d72a6-1bfd-439e-ac86-177cf50a277d",
   "metadata": {},
   "outputs": [],
   "source": []
  },
  {
   "cell_type": "code",
   "execution_count": null,
   "id": "815a0b55-03f3-41ba-916d-7d7e94e41efb",
   "metadata": {},
   "outputs": [],
   "source": []
  },
  {
   "cell_type": "code",
   "execution_count": null,
   "id": "595d275c-ebb5-41fc-ba5c-0b8d94f7001f",
   "metadata": {},
   "outputs": [],
   "source": []
  },
  {
   "cell_type": "code",
   "execution_count": null,
   "id": "6ac6ac19-61f6-448d-9c9b-65b1dab50b24",
   "metadata": {},
   "outputs": [],
   "source": []
  },
  {
   "cell_type": "code",
   "execution_count": null,
   "id": "d44c4646-012f-427f-9081-a2407b91de41",
   "metadata": {},
   "outputs": [],
   "source": []
  },
  {
   "cell_type": "code",
   "execution_count": null,
   "id": "47c82e49-9573-4cdf-b6bc-b8fbeb8cb2f9",
   "metadata": {},
   "outputs": [],
   "source": []
  },
  {
   "cell_type": "code",
   "execution_count": null,
   "id": "14078ae5-4200-4a23-9118-f89abf63f54c",
   "metadata": {},
   "outputs": [],
   "source": []
  },
  {
   "cell_type": "code",
   "execution_count": 13,
   "id": "56f28406-d82e-4dff-b0d3-cdf04bd69c71",
   "metadata": {},
   "outputs": [],
   "source": [
    "def get_de_cfg_entries(p_df, cfg_entry, how):\n",
    "    \"\"\"\n",
    "    Get file names needed as output for DE or DU\n",
    "    tests within analysis objects for\n",
    "        - all pairwise genotype sets\n",
    "        - all pairwise genotype sets by sex\n",
    "\n",
    "    Parameters:\n",
    "        how (str): {'du', 'de'}\n",
    "    \"\"\"\n",
    "\n",
    "    if how == 'du':\n",
    "        feats = ['tss', 'tes', 'ic', 'iso']\n",
    "    else:\n",
    "        feats = []\n",
    "\n",
    "    files = []\n",
    "\n",
    "    for a in p_df.analysis.unique().tolist():\n",
    "        wc = {'analysis': a}\n",
    "        temp = subset_df_on_wcs(wc, p_df)\n",
    "        obs_col = 'genotype_alias_int'\n",
    "        conds = temp[obs_col].unique().tolist()\n",
    "\n",
    "        combos = [c for c in itertools.combinations(conds, 2)]\n",
    "        obs_cond1 = [c[0] for c in combos]\n",
    "        obs_cond2 = [c[1] for c in combos]\n",
    "\n",
    "        files += expand(expand(cfg_entry,\n",
    "          zip,\n",
    "          obs_cond1=obs_cond1,\n",
    "          obs_cond2=obs_cond2,\n",
    "          allow_missing=True),\n",
    "          obs_col=obs_col,\n",
    "          feat=feats,\n",
    "          analysis=a)\n",
    "\n",
    "        # now get genotype comparisons for each sex\n",
    "        for s in temp.sex.unique():\n",
    "            wc['sex'] = s\n",
    "            temp2 = subset_df_on_wcs(wc, temp)\n",
    "            obs_col = 'genotype_sex'\n",
    "            conds = temp2[obs_col].unique().tolist()\n",
    "\n",
    "            combos = [c for c in itertools.combinations(conds, 2)]\n",
    "            obs_cond1 = [c[0] for c in combos]\n",
    "            obs_cond2 = [c[1] for c in combos]\n",
    "\n",
    "            files += expand(expand(cfg_entry,\n",
    "              zip,\n",
    "              obs_cond1=obs_cond1,\n",
    "              obs_cond2=obs_cond2,\n",
    "              allow_missing=True),\n",
    "              obs_col=obs_col,\n",
    "              feat=feats,\n",
    "              analysis=a)\n",
    "\n",
    "    return files"
   ]
  },
  {
   "cell_type": "markdown",
   "id": "c6c4a78e-f113-4a2d-81c9-7ea139c4d366",
   "metadata": {},
   "source": [
    "# 24 feb"
   ]
  },
  {
   "cell_type": "code",
   "execution_count": 14,
   "id": "9f53211c-46f9-4953-bfc2-c7e1404e122e",
   "metadata": {},
   "outputs": [],
   "source": [
    "wc = {'analysis':'240202_grant', 'obs_cond1':'5xFAD_F',\n",
    "      'obs_cond2':'B6J_F', 'obs_col':'genotype_sex'}"
   ]
  },
  {
   "cell_type": "code",
   "execution_count": null,
   "id": "7227cc42-f178-4b1b-b424-6932150338f2",
   "metadata": {},
   "outputs": [],
   "source": []
  },
  {
   "cell_type": "code",
   "execution_count": null,
   "id": "271202e7-2c75-40bf-a3f8-64ef110d33f8",
   "metadata": {},
   "outputs": [],
   "source": []
  },
  {
   "cell_type": "code",
   "execution_count": null,
   "id": "2ad86573-8686-4f58-b523-da83cd0a0792",
   "metadata": {},
   "outputs": [],
   "source": []
  },
  {
   "cell_type": "code",
   "execution_count": null,
   "id": "205e8ac4-f50a-4e50-8b86-df1f5d4b95c9",
   "metadata": {},
   "outputs": [],
   "source": []
  },
  {
   "cell_type": "code",
   "execution_count": null,
   "id": "1e10946a-d0c8-4074-a6f3-54c194e2311f",
   "metadata": {},
   "outputs": [],
   "source": []
  },
  {
   "cell_type": "markdown",
   "id": "e5b07b45-3403-41d0-84e9-e126d0b8167b",
   "metadata": {},
   "source": [
    "## 243101"
   ]
  },
  {
   "cell_type": "code",
   "execution_count": 4,
   "id": "5baa6b5f-f8da-4502-9cdb-5bcde3725617",
   "metadata": {},
   "outputs": [],
   "source": [
    "config_tsv = 'config.tsv'\n",
    "p_meta_tsv = 'pseudochromosome_metadata.tsv'\n",
    "meta_tsv = 'mouse_metadata.tsv'\n",
    "geno_tsv = 'genotype_metadata.tsv'\n",
    "an_meta_tsv = 'analysis_config.tsv'\n",
    "auto_dedupe = True\n",
    "\n",
    "df, p_df = parse_config_file_analysis(config_tsv,\n",
    "                       meta_tsv,\n",
    "                       p_meta_tsv,\n",
    "                       geno_tsv,\n",
    "                       an_meta_tsv,\n",
    "                       auto_dedupe=auto_dedupe)"
   ]
  },
  {
   "cell_type": "code",
   "execution_count": 10,
   "id": "4834cee6-3e23-42c4-9ea4-8a5daa5773f1",
   "metadata": {},
   "outputs": [
    {
     "data": {
      "text/html": [
       "<div>\n",
       "<style scoped>\n",
       "    .dataframe tbody tr th:only-of-type {\n",
       "        vertical-align: middle;\n",
       "    }\n",
       "\n",
       "    .dataframe tbody tr th {\n",
       "        vertical-align: top;\n",
       "    }\n",
       "\n",
       "    .dataframe thead th {\n",
       "        text-align: right;\n",
       "    }\n",
       "</style>\n",
       "<table border=\"1\" class=\"dataframe\">\n",
       "  <thead>\n",
       "    <tr style=\"text-align: right;\">\n",
       "      <th></th>\n",
       "      <th>cerberus_run</th>\n",
       "      <th>genotype</th>\n",
       "    </tr>\n",
       "  </thead>\n",
       "  <tbody>\n",
       "    <tr>\n",
       "      <th>0</th>\n",
       "      <td>1</td>\n",
       "      <td>5xFAD-HEMI</td>\n",
       "    </tr>\n",
       "    <tr>\n",
       "      <th>6</th>\n",
       "      <td>2</td>\n",
       "      <td>5xFAD-WT</td>\n",
       "    </tr>\n",
       "  </tbody>\n",
       "</table>\n",
       "</div>"
      ],
      "text/plain": [
       "  cerberus_run    genotype\n",
       "0            1  5xFAD-HEMI\n",
       "6            2    5xFAD-WT"
      ]
     },
     "execution_count": 10,
     "metadata": {},
     "output_type": "execute_result"
    }
   ],
   "source": [
    "   \n",
    "wc = {  'analysis':'240202_grant',\n",
    "  'study':'ad003',\n",
    "\n",
    "  'genotype':'5xFAD-WT',\n",
    "  'sex':'F',\n",
    "  'age':'4_months',\n",
    "  'tissue':'HC',\n",
    "  'cerberus_run':'1',\n",
    "  'end_mode':'tss'}\n",
    "p_df.loc[(p_df.cerberus_run=='1')&\\\n",
    "         (p_df.analysis=='240202_grant')]\n",
    "p_df[['cerberus_run', 'genotype']].drop_duplicates()\n",
    "# get_cfg_entries_analysis(wc,\n",
    "#                         p_df,\n",
    "#                         config['analysis']['cerberus']['agg']['ends'])\n",
    "# expand(get_cfg_entries_analysis(wc,\n",
    "#                         p_df,\n",
    "#                         config['analysis']['cerberus']['agg']['ends'])[0],\n",
    "#                         end_mode='tss')[0]"
   ]
  },
  {
   "cell_type": "code",
   "execution_count": 27,
   "id": "015e02db-a5a6-4b6a-a45d-928c7f30dcf0",
   "metadata": {},
   "outputs": [
    {
     "data": {
      "text/plain": [
       "'ref/ca_tss.bed'"
      ]
     },
     "execution_count": 27,
     "metadata": {},
     "output_type": "execute_result"
    }
   ],
   "source": [
    "wc = {  'analysis':'240202_grant',\n",
    "  'study':'ad003',\n",
    "\n",
    "  'genotype':'5xFAD-HEMI',\n",
    "  'sex':'F',\n",
    "  'age':'4_months',\n",
    "  'tissue':'HC',\n",
    "  'cerberus_run':'1',\n",
    "  'end_mode':'tss'}\n",
    "get_prev_cerb_entry(wc, p_df,\n",
    "                      config['analysis']['cerberus']['agg']['ics'],\n",
    "                      config)"
   ]
  },
  {
   "cell_type": "code",
   "execution_count": 7,
   "id": "0a670422-0ebe-420f-8b44-9e8d4079d169",
   "metadata": {},
   "outputs": [
    {
     "data": {
      "text/plain": [
       "<function __main__.<lambda>(wc)>"
      ]
     },
     "execution_count": 7,
     "metadata": {},
     "output_type": "execute_result"
    }
   ],
   "source": [
    "# wc = {'analysis': '240202_grant',\n",
    "#        analysis=240202_grant\n",
    "\n",
    "#   study=ad003\n",
    "#   genotype=5xFAD-WT\n",
    "#   sex=F\n",
    "#   age=4_months\n",
    "#   tissue=HC\n",
    "#   cerberus_run=1}\n",
    "\n",
    "lambda wc:get_final_cerb_entry(wc,\n",
    "                     p_df,\n",
    "                     config['analysis']['cerberus']['ca'])[0]"
   ]
  },
  {
   "cell_type": "code",
   "execution_count": 26,
   "id": "46086a3f-c6a5-47be-a8e2-8d1b71ddd0c1",
   "metadata": {},
   "outputs": [],
   "source": [
    "# p_df.dtypes"
   ]
  },
  {
   "cell_type": "code",
   "execution_count": 21,
   "id": "52ff3278-66bc-4c69-ba2f-94b6ae725932",
   "metadata": {},
   "outputs": [
    {
     "data": {
      "text/plain": [
       "array(['1', '2'], dtype=object)"
      ]
     },
     "execution_count": 21,
     "metadata": {},
     "output_type": "execute_result"
    }
   ],
   "source": [
    "p_df.cerberus_run.unique()"
   ]
  },
  {
   "cell_type": "code",
   "execution_count": 25,
   "id": "fbd921e6-a2ec-44ab-b851-e9fbe6a36353",
   "metadata": {},
   "outputs": [
    {
     "data": {
      "text/html": [
       "<div>\n",
       "<style scoped>\n",
       "    .dataframe tbody tr th:only-of-type {\n",
       "        vertical-align: middle;\n",
       "    }\n",
       "\n",
       "    .dataframe tbody tr th {\n",
       "        vertical-align: top;\n",
       "    }\n",
       "\n",
       "    .dataframe thead th {\n",
       "        text-align: right;\n",
       "    }\n",
       "</style>\n",
       "<table border=\"1\" class=\"dataframe\">\n",
       "  <thead>\n",
       "    <tr style=\"text-align: right;\">\n",
       "      <th></th>\n",
       "      <th>study</th>\n",
       "      <th>genotype</th>\n",
       "      <th>sex</th>\n",
       "      <th>age</th>\n",
       "      <th>tissue</th>\n",
       "      <th>cerberus_run</th>\n",
       "    </tr>\n",
       "  </thead>\n",
       "  <tbody>\n",
       "    <tr>\n",
       "      <th>0</th>\n",
       "      <td>ad003</td>\n",
       "      <td>5xFAD-HEMI</td>\n",
       "      <td>F</td>\n",
       "      <td>4_months</td>\n",
       "      <td>HC</td>\n",
       "      <td>1</td>\n",
       "    </tr>\n",
       "  </tbody>\n",
       "</table>\n",
       "</div>"
      ],
      "text/plain": [
       "   study    genotype sex       age tissue cerberus_run\n",
       "0  ad003  5xFAD-HEMI   F  4_months     HC            1"
      ]
     },
     "execution_count": 25,
     "metadata": {},
     "output_type": "execute_result"
    }
   ],
   "source": [
    "p_df.loc[p_df.cerberus_run=='1'].head(1)[['study', 'genotype', 'sex', 'age', 'tissue', 'cerberus_run']]\n",
    "# p_df.loc[p_df.cerberus_run=='1', 'genotype'].unique().tolist()"
   ]
  },
  {
   "cell_type": "code",
   "execution_count": 16,
   "id": "ceed22da-aac0-4a05-a2b6-c88ba4ee5d9e",
   "metadata": {},
   "outputs": [
    {
     "data": {
      "text/plain": [
       "'analysis/240202_grant/cerberus/agg/ad003_5xFAD-WT_F_4_months_HC_2_tss.bed'"
      ]
     },
     "execution_count": 18,
     "metadata": {},
     "output_type": "execute_result"
    }
   ],
   "source": [
    "wc = {'analysis': '240202_grant',\n",
    "\n",
    "  'study':'ad003',\n",
    "  'genotype':'5xFAD-WT',\n",
    "  'sex':'F',\n",
    "  'age':'4_months',\n",
    "  'tissue':'HC',\n",
    "  'cerberus_run':'1'}\n",
    "expand(get_cfg_entries_analysis(wc,\n",
    "                        p_df,\n",
    "                        config['analysis']['cerberus']['agg']['ends'])[0],\n",
    "                        end_mode='tss')[0]"
   ]
  },
  {
   "cell_type": "code",
   "execution_count": 10,
   "id": "ea8cf879-b2dd-4079-bbe4-33319baf0cdc",
   "metadata": {},
   "outputs": [
    {
     "data": {
      "text/plain": [
       "'analysis/240202_grant/cerberus/agg/ad003_5xFAD-HEMI_F_4_months_HC_1_{end_mode}.bed'"
      ]
     },
     "execution_count": 10,
     "metadata": {},
     "output_type": "execute_result"
    }
   ],
   "source": [
    "get_cfg_entries_analysis(wc,\n",
    "                        p_df,\n",
    "                        config['analysis']['cerberus']['agg']['ends'])[0]"
   ]
  },
  {
   "cell_type": "code",
   "execution_count": 9,
   "id": "acc636b2-1367-453b-a016-fbbf943273c4",
   "metadata": {},
   "outputs": [
    {
     "data": {
      "text/plain": [
       "<function __main__.<lambda>(wc)>"
      ]
     },
     "execution_count": 9,
     "metadata": {},
     "output_type": "execute_result"
    }
   ],
   "source": [
    "lambda wc:expand(get_cfg_entries_analysis(wc,\n",
    "                        p_df,\n",
    "                        config['analysis']['cerberus']['agg']['ends'])[0],\n",
    "                        end_mode='tss')[0]"
   ]
  },
  {
   "cell_type": "code",
   "execution_count": 10,
   "id": "d53b991e-0d2f-4707-ad34-b4e5d28abf69",
   "metadata": {},
   "outputs": [
    {
     "data": {
      "text/plain": [
       "['analysis/hClu/swan/5xFAD-HEMI_vs_B6J_genotype_alias_int_du_tss.tsv',\n",
       " 'analysis/hClu/swan/5xFAD-HEMI_vs_B6J_genotype_alias_int_du_tes.tsv',\n",
       " 'analysis/hClu/swan/5xFAD-HEMI_vs_B6J_genotype_alias_int_du_ic.tsv',\n",
       " 'analysis/hClu/swan/5xFAD-HEMI_vs_B6J_genotype_alias_int_du_iso.tsv',\n",
       " 'analysis/hClu/swan/5xFAD-HEMI_vs_5xFAD-HEMI_Clu-h2kbKI-HO_genotype_alias_int_du_tss.tsv',\n",
       " 'analysis/hClu/swan/5xFAD-HEMI_vs_5xFAD-HEMI_Clu-h2kbKI-HO_genotype_alias_int_du_tes.tsv',\n",
       " 'analysis/hClu/swan/5xFAD-HEMI_vs_5xFAD-HEMI_Clu-h2kbKI-HO_genotype_alias_int_du_ic.tsv',\n",
       " 'analysis/hClu/swan/5xFAD-HEMI_vs_5xFAD-HEMI_Clu-h2kbKI-HO_genotype_alias_int_du_iso.tsv',\n",
       " 'analysis/hClu/swan/5xFAD-HEMI_vs_Clu-h2kbKI-HO_genotype_alias_int_du_tss.tsv',\n",
       " 'analysis/hClu/swan/5xFAD-HEMI_vs_Clu-h2kbKI-HO_genotype_alias_int_du_tes.tsv',\n",
       " 'analysis/hClu/swan/5xFAD-HEMI_vs_Clu-h2kbKI-HO_genotype_alias_int_du_ic.tsv',\n",
       " 'analysis/hClu/swan/5xFAD-HEMI_vs_Clu-h2kbKI-HO_genotype_alias_int_du_iso.tsv',\n",
       " 'analysis/hClu/swan/B6J_vs_5xFAD-HEMI_Clu-h2kbKI-HO_genotype_alias_int_du_tss.tsv',\n",
       " 'analysis/hClu/swan/B6J_vs_5xFAD-HEMI_Clu-h2kbKI-HO_genotype_alias_int_du_tes.tsv',\n",
       " 'analysis/hClu/swan/B6J_vs_5xFAD-HEMI_Clu-h2kbKI-HO_genotype_alias_int_du_ic.tsv',\n",
       " 'analysis/hClu/swan/B6J_vs_5xFAD-HEMI_Clu-h2kbKI-HO_genotype_alias_int_du_iso.tsv',\n",
       " 'analysis/hClu/swan/B6J_vs_Clu-h2kbKI-HO_genotype_alias_int_du_tss.tsv',\n",
       " 'analysis/hClu/swan/B6J_vs_Clu-h2kbKI-HO_genotype_alias_int_du_tes.tsv',\n",
       " 'analysis/hClu/swan/B6J_vs_Clu-h2kbKI-HO_genotype_alias_int_du_ic.tsv',\n",
       " 'analysis/hClu/swan/B6J_vs_Clu-h2kbKI-HO_genotype_alias_int_du_iso.tsv',\n",
       " 'analysis/hClu/swan/5xFAD-HEMI_Clu-h2kbKI-HO_vs_Clu-h2kbKI-HO_genotype_alias_int_du_tss.tsv',\n",
       " 'analysis/hClu/swan/5xFAD-HEMI_Clu-h2kbKI-HO_vs_Clu-h2kbKI-HO_genotype_alias_int_du_tes.tsv',\n",
       " 'analysis/hClu/swan/5xFAD-HEMI_Clu-h2kbKI-HO_vs_Clu-h2kbKI-HO_genotype_alias_int_du_ic.tsv',\n",
       " 'analysis/hClu/swan/5xFAD-HEMI_Clu-h2kbKI-HO_vs_Clu-h2kbKI-HO_genotype_alias_int_du_iso.tsv',\n",
       " 'analysis/hClu/swan/5xFAD-HEMI_F_vs_B6J_F_genotype_sex_du_tss.tsv',\n",
       " 'analysis/hClu/swan/5xFAD-HEMI_F_vs_B6J_F_genotype_sex_du_tes.tsv',\n",
       " 'analysis/hClu/swan/5xFAD-HEMI_F_vs_B6J_F_genotype_sex_du_ic.tsv',\n",
       " 'analysis/hClu/swan/5xFAD-HEMI_F_vs_B6J_F_genotype_sex_du_iso.tsv',\n",
       " 'analysis/hClu/swan/5xFAD-HEMI_F_vs_5xFAD-HEMI_Clu-h2kbKI-HO_F_genotype_sex_du_tss.tsv',\n",
       " 'analysis/hClu/swan/5xFAD-HEMI_F_vs_5xFAD-HEMI_Clu-h2kbKI-HO_F_genotype_sex_du_tes.tsv',\n",
       " 'analysis/hClu/swan/5xFAD-HEMI_F_vs_5xFAD-HEMI_Clu-h2kbKI-HO_F_genotype_sex_du_ic.tsv',\n",
       " 'analysis/hClu/swan/5xFAD-HEMI_F_vs_5xFAD-HEMI_Clu-h2kbKI-HO_F_genotype_sex_du_iso.tsv',\n",
       " 'analysis/hClu/swan/5xFAD-HEMI_F_vs_Clu-h2kbKI-HO_F_genotype_sex_du_tss.tsv',\n",
       " 'analysis/hClu/swan/5xFAD-HEMI_F_vs_Clu-h2kbKI-HO_F_genotype_sex_du_tes.tsv',\n",
       " 'analysis/hClu/swan/5xFAD-HEMI_F_vs_Clu-h2kbKI-HO_F_genotype_sex_du_ic.tsv',\n",
       " 'analysis/hClu/swan/5xFAD-HEMI_F_vs_Clu-h2kbKI-HO_F_genotype_sex_du_iso.tsv',\n",
       " 'analysis/hClu/swan/B6J_F_vs_5xFAD-HEMI_Clu-h2kbKI-HO_F_genotype_sex_du_tss.tsv',\n",
       " 'analysis/hClu/swan/B6J_F_vs_5xFAD-HEMI_Clu-h2kbKI-HO_F_genotype_sex_du_tes.tsv',\n",
       " 'analysis/hClu/swan/B6J_F_vs_5xFAD-HEMI_Clu-h2kbKI-HO_F_genotype_sex_du_ic.tsv',\n",
       " 'analysis/hClu/swan/B6J_F_vs_5xFAD-HEMI_Clu-h2kbKI-HO_F_genotype_sex_du_iso.tsv',\n",
       " 'analysis/hClu/swan/B6J_F_vs_Clu-h2kbKI-HO_F_genotype_sex_du_tss.tsv',\n",
       " 'analysis/hClu/swan/B6J_F_vs_Clu-h2kbKI-HO_F_genotype_sex_du_tes.tsv',\n",
       " 'analysis/hClu/swan/B6J_F_vs_Clu-h2kbKI-HO_F_genotype_sex_du_ic.tsv',\n",
       " 'analysis/hClu/swan/B6J_F_vs_Clu-h2kbKI-HO_F_genotype_sex_du_iso.tsv',\n",
       " 'analysis/hClu/swan/5xFAD-HEMI_Clu-h2kbKI-HO_F_vs_Clu-h2kbKI-HO_F_genotype_sex_du_tss.tsv',\n",
       " 'analysis/hClu/swan/5xFAD-HEMI_Clu-h2kbKI-HO_F_vs_Clu-h2kbKI-HO_F_genotype_sex_du_tes.tsv',\n",
       " 'analysis/hClu/swan/5xFAD-HEMI_Clu-h2kbKI-HO_F_vs_Clu-h2kbKI-HO_F_genotype_sex_du_ic.tsv',\n",
       " 'analysis/hClu/swan/5xFAD-HEMI_Clu-h2kbKI-HO_F_vs_Clu-h2kbKI-HO_F_genotype_sex_du_iso.tsv',\n",
       " 'analysis/hTREM2/swan/B6J_vs_hTREM2KI-HET_genotype_alias_int_du_tss.tsv',\n",
       " 'analysis/hTREM2/swan/B6J_vs_hTREM2KI-HET_genotype_alias_int_du_tes.tsv',\n",
       " 'analysis/hTREM2/swan/B6J_vs_hTREM2KI-HET_genotype_alias_int_du_ic.tsv',\n",
       " 'analysis/hTREM2/swan/B6J_vs_hTREM2KI-HET_genotype_alias_int_du_iso.tsv',\n",
       " 'analysis/hTREM2/swan/B6J_vs_hTREM2-R47HKI-HET_genotype_alias_int_du_tss.tsv',\n",
       " 'analysis/hTREM2/swan/B6J_vs_hTREM2-R47HKI-HET_genotype_alias_int_du_tes.tsv',\n",
       " 'analysis/hTREM2/swan/B6J_vs_hTREM2-R47HKI-HET_genotype_alias_int_du_ic.tsv',\n",
       " 'analysis/hTREM2/swan/B6J_vs_hTREM2-R47HKI-HET_genotype_alias_int_du_iso.tsv',\n",
       " 'analysis/hTREM2/swan/hTREM2KI-HET_vs_hTREM2-R47HKI-HET_genotype_alias_int_du_tss.tsv',\n",
       " 'analysis/hTREM2/swan/hTREM2KI-HET_vs_hTREM2-R47HKI-HET_genotype_alias_int_du_tes.tsv',\n",
       " 'analysis/hTREM2/swan/hTREM2KI-HET_vs_hTREM2-R47HKI-HET_genotype_alias_int_du_ic.tsv',\n",
       " 'analysis/hTREM2/swan/hTREM2KI-HET_vs_hTREM2-R47HKI-HET_genotype_alias_int_du_iso.tsv',\n",
       " 'analysis/hTREM2/swan/B6J_M_vs_hTREM2KI-HET_M_genotype_sex_du_tss.tsv',\n",
       " 'analysis/hTREM2/swan/B6J_M_vs_hTREM2KI-HET_M_genotype_sex_du_tes.tsv',\n",
       " 'analysis/hTREM2/swan/B6J_M_vs_hTREM2KI-HET_M_genotype_sex_du_ic.tsv',\n",
       " 'analysis/hTREM2/swan/B6J_M_vs_hTREM2KI-HET_M_genotype_sex_du_iso.tsv',\n",
       " 'analysis/hTREM2/swan/B6J_M_vs_hTREM2-R47HKI-HET_M_genotype_sex_du_tss.tsv',\n",
       " 'analysis/hTREM2/swan/B6J_M_vs_hTREM2-R47HKI-HET_M_genotype_sex_du_tes.tsv',\n",
       " 'analysis/hTREM2/swan/B6J_M_vs_hTREM2-R47HKI-HET_M_genotype_sex_du_ic.tsv',\n",
       " 'analysis/hTREM2/swan/B6J_M_vs_hTREM2-R47HKI-HET_M_genotype_sex_du_iso.tsv',\n",
       " 'analysis/hTREM2/swan/hTREM2KI-HET_M_vs_hTREM2-R47HKI-HET_M_genotype_sex_du_tss.tsv',\n",
       " 'analysis/hTREM2/swan/hTREM2KI-HET_M_vs_hTREM2-R47HKI-HET_M_genotype_sex_du_tes.tsv',\n",
       " 'analysis/hTREM2/swan/hTREM2KI-HET_M_vs_hTREM2-R47HKI-HET_M_genotype_sex_du_ic.tsv',\n",
       " 'analysis/hTREM2/swan/hTREM2KI-HET_M_vs_hTREM2-R47HKI-HET_M_genotype_sex_du_iso.tsv',\n",
       " 'analysis/hTREM2/swan/B6J_F_vs_hTREM2-R47HKI-HET_F_genotype_sex_du_tss.tsv',\n",
       " 'analysis/hTREM2/swan/B6J_F_vs_hTREM2-R47HKI-HET_F_genotype_sex_du_tes.tsv',\n",
       " 'analysis/hTREM2/swan/B6J_F_vs_hTREM2-R47HKI-HET_F_genotype_sex_du_ic.tsv',\n",
       " 'analysis/hTREM2/swan/B6J_F_vs_hTREM2-R47HKI-HET_F_genotype_sex_du_iso.tsv',\n",
       " 'analysis/hTREM2/swan/B6J_F_vs_hTREM2KI-HET_F_genotype_sex_du_tss.tsv',\n",
       " 'analysis/hTREM2/swan/B6J_F_vs_hTREM2KI-HET_F_genotype_sex_du_tes.tsv',\n",
       " 'analysis/hTREM2/swan/B6J_F_vs_hTREM2KI-HET_F_genotype_sex_du_ic.tsv',\n",
       " 'analysis/hTREM2/swan/B6J_F_vs_hTREM2KI-HET_F_genotype_sex_du_iso.tsv',\n",
       " 'analysis/hTREM2/swan/hTREM2-R47HKI-HET_F_vs_hTREM2KI-HET_F_genotype_sex_du_tss.tsv',\n",
       " 'analysis/hTREM2/swan/hTREM2-R47HKI-HET_F_vs_hTREM2KI-HET_F_genotype_sex_du_tes.tsv',\n",
       " 'analysis/hTREM2/swan/hTREM2-R47HKI-HET_F_vs_hTREM2KI-HET_F_genotype_sex_du_ic.tsv',\n",
       " 'analysis/hTREM2/swan/hTREM2-R47HKI-HET_F_vs_hTREM2KI-HET_F_genotype_sex_du_iso.tsv',\n",
       " 'analysis/hABKI_Swe_IB_HET_WT/swan/B6J_vs_hMAPT-HO_hABKI-SweIb-HET_genotype_alias_int_du_tss.tsv',\n",
       " 'analysis/hABKI_Swe_IB_HET_WT/swan/B6J_vs_hMAPT-HO_hABKI-SweIb-HET_genotype_alias_int_du_tes.tsv',\n",
       " 'analysis/hABKI_Swe_IB_HET_WT/swan/B6J_vs_hMAPT-HO_hABKI-SweIb-HET_genotype_alias_int_du_ic.tsv',\n",
       " 'analysis/hABKI_Swe_IB_HET_WT/swan/B6J_vs_hMAPT-HO_hABKI-SweIb-HET_genotype_alias_int_du_iso.tsv',\n",
       " 'analysis/hABKI_Swe_IB_HET_WT/swan/B6J_vs_hMAPT-HO_genotype_alias_int_du_tss.tsv',\n",
       " 'analysis/hABKI_Swe_IB_HET_WT/swan/B6J_vs_hMAPT-HO_genotype_alias_int_du_tes.tsv',\n",
       " 'analysis/hABKI_Swe_IB_HET_WT/swan/B6J_vs_hMAPT-HO_genotype_alias_int_du_ic.tsv',\n",
       " 'analysis/hABKI_Swe_IB_HET_WT/swan/B6J_vs_hMAPT-HO_genotype_alias_int_du_iso.tsv',\n",
       " 'analysis/hABKI_Swe_IB_HET_WT/swan/hMAPT-HO_hABKI-SweIb-HET_vs_hMAPT-HO_genotype_alias_int_du_tss.tsv',\n",
       " 'analysis/hABKI_Swe_IB_HET_WT/swan/hMAPT-HO_hABKI-SweIb-HET_vs_hMAPT-HO_genotype_alias_int_du_tes.tsv',\n",
       " 'analysis/hABKI_Swe_IB_HET_WT/swan/hMAPT-HO_hABKI-SweIb-HET_vs_hMAPT-HO_genotype_alias_int_du_ic.tsv',\n",
       " 'analysis/hABKI_Swe_IB_HET_WT/swan/hMAPT-HO_hABKI-SweIb-HET_vs_hMAPT-HO_genotype_alias_int_du_iso.tsv',\n",
       " 'analysis/hABKI_Swe_IB_HET_WT/swan/B6J_M_vs_hMAPT-HO_hABKI-SweIb-HET_M_genotype_sex_du_tss.tsv',\n",
       " 'analysis/hABKI_Swe_IB_HET_WT/swan/B6J_M_vs_hMAPT-HO_hABKI-SweIb-HET_M_genotype_sex_du_tes.tsv',\n",
       " 'analysis/hABKI_Swe_IB_HET_WT/swan/B6J_M_vs_hMAPT-HO_hABKI-SweIb-HET_M_genotype_sex_du_ic.tsv',\n",
       " 'analysis/hABKI_Swe_IB_HET_WT/swan/B6J_M_vs_hMAPT-HO_hABKI-SweIb-HET_M_genotype_sex_du_iso.tsv',\n",
       " 'analysis/hABKI_Swe_IB_HET_WT/swan/B6J_M_vs_hMAPT-HO_M_genotype_sex_du_tss.tsv',\n",
       " 'analysis/hABKI_Swe_IB_HET_WT/swan/B6J_M_vs_hMAPT-HO_M_genotype_sex_du_tes.tsv',\n",
       " 'analysis/hABKI_Swe_IB_HET_WT/swan/B6J_M_vs_hMAPT-HO_M_genotype_sex_du_ic.tsv',\n",
       " 'analysis/hABKI_Swe_IB_HET_WT/swan/B6J_M_vs_hMAPT-HO_M_genotype_sex_du_iso.tsv',\n",
       " 'analysis/hABKI_Swe_IB_HET_WT/swan/hMAPT-HO_hABKI-SweIb-HET_M_vs_hMAPT-HO_M_genotype_sex_du_tss.tsv',\n",
       " 'analysis/hABKI_Swe_IB_HET_WT/swan/hMAPT-HO_hABKI-SweIb-HET_M_vs_hMAPT-HO_M_genotype_sex_du_tes.tsv',\n",
       " 'analysis/hABKI_Swe_IB_HET_WT/swan/hMAPT-HO_hABKI-SweIb-HET_M_vs_hMAPT-HO_M_genotype_sex_du_ic.tsv',\n",
       " 'analysis/hABKI_Swe_IB_HET_WT/swan/hMAPT-HO_hABKI-SweIb-HET_M_vs_hMAPT-HO_M_genotype_sex_du_iso.tsv',\n",
       " 'analysis/hABKI_Swe_IB_HET_WT/swan/B6J_F_vs_hMAPT-HO_hABKI-SweIb-HET_F_genotype_sex_du_tss.tsv',\n",
       " 'analysis/hABKI_Swe_IB_HET_WT/swan/B6J_F_vs_hMAPT-HO_hABKI-SweIb-HET_F_genotype_sex_du_tes.tsv',\n",
       " 'analysis/hABKI_Swe_IB_HET_WT/swan/B6J_F_vs_hMAPT-HO_hABKI-SweIb-HET_F_genotype_sex_du_ic.tsv',\n",
       " 'analysis/hABKI_Swe_IB_HET_WT/swan/B6J_F_vs_hMAPT-HO_hABKI-SweIb-HET_F_genotype_sex_du_iso.tsv',\n",
       " 'analysis/hABKI_Swe_IB_HET_WT/swan/B6J_F_vs_hMAPT-HO_F_genotype_sex_du_tss.tsv',\n",
       " 'analysis/hABKI_Swe_IB_HET_WT/swan/B6J_F_vs_hMAPT-HO_F_genotype_sex_du_tes.tsv',\n",
       " 'analysis/hABKI_Swe_IB_HET_WT/swan/B6J_F_vs_hMAPT-HO_F_genotype_sex_du_ic.tsv',\n",
       " 'analysis/hABKI_Swe_IB_HET_WT/swan/B6J_F_vs_hMAPT-HO_F_genotype_sex_du_iso.tsv',\n",
       " 'analysis/hABKI_Swe_IB_HET_WT/swan/hMAPT-HO_hABKI-SweIb-HET_F_vs_hMAPT-HO_F_genotype_sex_du_tss.tsv',\n",
       " 'analysis/hABKI_Swe_IB_HET_WT/swan/hMAPT-HO_hABKI-SweIb-HET_F_vs_hMAPT-HO_F_genotype_sex_du_tes.tsv',\n",
       " 'analysis/hABKI_Swe_IB_HET_WT/swan/hMAPT-HO_hABKI-SweIb-HET_F_vs_hMAPT-HO_F_genotype_sex_du_ic.tsv',\n",
       " 'analysis/hABKI_Swe_IB_HET_WT/swan/hMAPT-HO_hABKI-SweIb-HET_F_vs_hMAPT-HO_F_genotype_sex_du_iso.tsv']"
      ]
     },
     "execution_count": 10,
     "metadata": {},
     "output_type": "execute_result"
    }
   ],
   "source": [
    "get_de_cfg_entries(p_df, config['analysis']['swan']['du'], how='du')"
   ]
  },
  {
   "cell_type": "code",
   "execution_count": null,
   "id": "16b9152c-7eec-4bfa-bfac-53ced9d79d8a",
   "metadata": {},
   "outputs": [],
   "source": []
  },
  {
   "cell_type": "code",
   "execution_count": null,
   "id": "571738b6-a47a-4b9d-98dd-8be831023de9",
   "metadata": {},
   "outputs": [],
   "source": []
  },
  {
   "cell_type": "code",
   "execution_count": null,
   "id": "09c90bd9-4283-41f8-be12-c596e6fcdab9",
   "metadata": {},
   "outputs": [],
   "source": []
  },
  {
   "cell_type": "code",
   "execution_count": null,
   "id": "3e2ef20d-8584-4427-8fcf-d6aa5780d261",
   "metadata": {},
   "outputs": [],
   "source": []
  },
  {
   "cell_type": "code",
   "execution_count": null,
   "id": "c73ba608-b3ab-4308-86fc-28f7480c6d83",
   "metadata": {},
   "outputs": [],
   "source": []
  },
  {
   "cell_type": "code",
   "execution_count": null,
   "id": "688cf0b8-42d9-42d4-9706-d83128e296d2",
   "metadata": {},
   "outputs": [],
   "source": []
  },
  {
   "cell_type": "markdown",
   "id": "6df8a583-64ab-4dcb-b99a-96e33d52867f",
   "metadata": {},
   "source": [
    "## 243101"
   ]
  },
  {
   "cell_type": "code",
   "execution_count": 3,
   "id": "d16ba117-e1b4-435d-816f-876a51d48095",
   "metadata": {},
   "outputs": [],
   "source": [
    "config_tsv = 'config.tsv'\n",
    "p_meta_tsv = 'pseudochromosome_metadata.tsv'\n",
    "meta_tsv = 'mouse_metadata.tsv'\n",
    "geno_tsv = 'genotype_metadata.tsv'\n",
    "an_meta_tsv = 'analysis_config.tsv'\n",
    "auto_dedupe = True\n",
    "\n",
    "df, p_df = parse_config_file_analysis(config_tsv,\n",
    "                       meta_tsv,\n",
    "                       p_meta_tsv,\n",
    "                       geno_tsv,\n",
    "                       an_meta_tsv,\n",
    "                       auto_dedupe=auto_dedupe)"
   ]
  },
  {
   "cell_type": "code",
   "execution_count": 4,
   "id": "c3002fe9-739c-4e36-a15e-7555545608fc",
   "metadata": {},
   "outputs": [
    {
     "data": {
      "text/plain": [
       "array(['5xFAD-HEMI', 'B6J', '5xFAD-HEMI;Clu-h2kbKI-HO', 'Clu-h2kbKI-HO',\n",
       "       'hTREM2KI-HET', 'hTREM2-R47HKI-HET', 'hMAPT-HO;hABKI-SweIb-HET',\n",
       "       'hMAPT-HO'], dtype=object)"
      ]
     },
     "execution_count": 4,
     "metadata": {},
     "output_type": "execute_result"
    }
   ],
   "source": [
    "p_df.genotype_alias.unique()"
   ]
  },
  {
   "cell_type": "code",
   "execution_count": 5,
   "id": "bd25af5f-094f-4942-9a48-18bb128f5153",
   "metadata": {},
   "outputs": [
    {
     "data": {
      "text/plain": [
       "array(['5xFAD-HEMI', 'B6J', '5xFAD-HEMI_Clu-h2kbKI-HO', 'Clu-h2kbKI-HO',\n",
       "       'hTREM2KI-HET', 'hTREM2-R47HKI-HET', 'hMAPT-HO_hABKI-SweIb-HET',\n",
       "       'hMAPT-HO'], dtype=object)"
      ]
     },
     "execution_count": 5,
     "metadata": {},
     "output_type": "execute_result"
    }
   ],
   "source": [
    "p_df.genotype_alias_int.unique()"
   ]
  },
  {
   "cell_type": "code",
   "execution_count": 7,
   "id": "a07bef68-ac05-4566-a0fe-1bf7e30c0137",
   "metadata": {},
   "outputs": [
    {
     "data": {
      "text/plain": [
       "array(['5xFAD-HEMI_F', 'B6J_F', 'B6J_M', '5xFAD-HEMI_Clu-h2kbKI-HO_F',\n",
       "       'Clu-h2kbKI-HO_F', 'hTREM2KI-HET_M', 'hTREM2-R47HKI-HET_M',\n",
       "       'hTREM2-R47HKI-HET_F', 'hTREM2KI-HET_F',\n",
       "       'hMAPT-HO_hABKI-SweIb-HET_F', 'hMAPT-HO_F',\n",
       "       'hMAPT-HO_hABKI-SweIb-HET_M', 'hMAPT-HO_M'], dtype=object)"
      ]
     },
     "execution_count": 7,
     "metadata": {},
     "output_type": "execute_result"
    }
   ],
   "source": [
    "p_df.genotype_sex.unique()"
   ]
  },
  {
   "cell_type": "code",
   "execution_count": 6,
   "id": "6443d048-aeca-463e-a3c0-2e93be698cce",
   "metadata": {},
   "outputs": [
    {
     "data": {
      "text/plain": [
       "['analysis/hClu/swan/5xFAD-HEMI_vs_5xFAD-WT_genotype_du_tss.tsv',\n",
       " 'analysis/hClu/swan/5xFAD-HEMI_vs_5xFAD-WT_genotype_du_tes.tsv',\n",
       " 'analysis/hClu/swan/5xFAD-HEMI_vs_5xFAD-WT_genotype_du_ic.tsv',\n",
       " 'analysis/hClu/swan/5xFAD-HEMI_vs_5xFAD-WT_genotype_du_iso.tsv',\n",
       " 'analysis/hClu/swan/5xFAD-HEMI_vs_5xFAD-HEMI_Clu-h2kbKI-HO_genotype_du_tss.tsv',\n",
       " 'analysis/hClu/swan/5xFAD-HEMI_vs_5xFAD-HEMI_Clu-h2kbKI-HO_genotype_du_tes.tsv',\n",
       " 'analysis/hClu/swan/5xFAD-HEMI_vs_5xFAD-HEMI_Clu-h2kbKI-HO_genotype_du_ic.tsv',\n",
       " 'analysis/hClu/swan/5xFAD-HEMI_vs_5xFAD-HEMI_Clu-h2kbKI-HO_genotype_du_iso.tsv',\n",
       " 'analysis/hClu/swan/5xFAD-HEMI_vs_5xFAD-WT_Clu-h2kbKI-HO_genotype_du_tss.tsv',\n",
       " 'analysis/hClu/swan/5xFAD-HEMI_vs_5xFAD-WT_Clu-h2kbKI-HO_genotype_du_tes.tsv',\n",
       " 'analysis/hClu/swan/5xFAD-HEMI_vs_5xFAD-WT_Clu-h2kbKI-HO_genotype_du_ic.tsv',\n",
       " 'analysis/hClu/swan/5xFAD-HEMI_vs_5xFAD-WT_Clu-h2kbKI-HO_genotype_du_iso.tsv',\n",
       " 'analysis/hClu/swan/5xFAD-WT_vs_5xFAD-HEMI_Clu-h2kbKI-HO_genotype_du_tss.tsv',\n",
       " 'analysis/hClu/swan/5xFAD-WT_vs_5xFAD-HEMI_Clu-h2kbKI-HO_genotype_du_tes.tsv',\n",
       " 'analysis/hClu/swan/5xFAD-WT_vs_5xFAD-HEMI_Clu-h2kbKI-HO_genotype_du_ic.tsv',\n",
       " 'analysis/hClu/swan/5xFAD-WT_vs_5xFAD-HEMI_Clu-h2kbKI-HO_genotype_du_iso.tsv',\n",
       " 'analysis/hClu/swan/5xFAD-WT_vs_5xFAD-WT_Clu-h2kbKI-HO_genotype_du_tss.tsv',\n",
       " 'analysis/hClu/swan/5xFAD-WT_vs_5xFAD-WT_Clu-h2kbKI-HO_genotype_du_tes.tsv',\n",
       " 'analysis/hClu/swan/5xFAD-WT_vs_5xFAD-WT_Clu-h2kbKI-HO_genotype_du_ic.tsv',\n",
       " 'analysis/hClu/swan/5xFAD-WT_vs_5xFAD-WT_Clu-h2kbKI-HO_genotype_du_iso.tsv',\n",
       " 'analysis/hClu/swan/5xFAD-HEMI_Clu-h2kbKI-HO_vs_5xFAD-WT_Clu-h2kbKI-HO_genotype_du_tss.tsv',\n",
       " 'analysis/hClu/swan/5xFAD-HEMI_Clu-h2kbKI-HO_vs_5xFAD-WT_Clu-h2kbKI-HO_genotype_du_tes.tsv',\n",
       " 'analysis/hClu/swan/5xFAD-HEMI_Clu-h2kbKI-HO_vs_5xFAD-WT_Clu-h2kbKI-HO_genotype_du_ic.tsv',\n",
       " 'analysis/hClu/swan/5xFAD-HEMI_Clu-h2kbKI-HO_vs_5xFAD-WT_Clu-h2kbKI-HO_genotype_du_iso.tsv',\n",
       " 'analysis/hClu/swan/5xFAD-HEMI_F_vs_5xFAD-WT_F_genotype_sex_du_tss.tsv',\n",
       " 'analysis/hClu/swan/5xFAD-HEMI_F_vs_5xFAD-WT_F_genotype_sex_du_tes.tsv',\n",
       " 'analysis/hClu/swan/5xFAD-HEMI_F_vs_5xFAD-WT_F_genotype_sex_du_ic.tsv',\n",
       " 'analysis/hClu/swan/5xFAD-HEMI_F_vs_5xFAD-WT_F_genotype_sex_du_iso.tsv',\n",
       " 'analysis/hClu/swan/5xFAD-HEMI_F_vs_5xFAD-HEMI_Clu-h2kbKI-HO_F_genotype_sex_du_tss.tsv',\n",
       " 'analysis/hClu/swan/5xFAD-HEMI_F_vs_5xFAD-HEMI_Clu-h2kbKI-HO_F_genotype_sex_du_tes.tsv',\n",
       " 'analysis/hClu/swan/5xFAD-HEMI_F_vs_5xFAD-HEMI_Clu-h2kbKI-HO_F_genotype_sex_du_ic.tsv',\n",
       " 'analysis/hClu/swan/5xFAD-HEMI_F_vs_5xFAD-HEMI_Clu-h2kbKI-HO_F_genotype_sex_du_iso.tsv',\n",
       " 'analysis/hClu/swan/5xFAD-HEMI_F_vs_5xFAD-WT_Clu-h2kbKI-HO_F_genotype_sex_du_tss.tsv',\n",
       " 'analysis/hClu/swan/5xFAD-HEMI_F_vs_5xFAD-WT_Clu-h2kbKI-HO_F_genotype_sex_du_tes.tsv',\n",
       " 'analysis/hClu/swan/5xFAD-HEMI_F_vs_5xFAD-WT_Clu-h2kbKI-HO_F_genotype_sex_du_ic.tsv',\n",
       " 'analysis/hClu/swan/5xFAD-HEMI_F_vs_5xFAD-WT_Clu-h2kbKI-HO_F_genotype_sex_du_iso.tsv',\n",
       " 'analysis/hClu/swan/5xFAD-WT_F_vs_5xFAD-HEMI_Clu-h2kbKI-HO_F_genotype_sex_du_tss.tsv',\n",
       " 'analysis/hClu/swan/5xFAD-WT_F_vs_5xFAD-HEMI_Clu-h2kbKI-HO_F_genotype_sex_du_tes.tsv',\n",
       " 'analysis/hClu/swan/5xFAD-WT_F_vs_5xFAD-HEMI_Clu-h2kbKI-HO_F_genotype_sex_du_ic.tsv',\n",
       " 'analysis/hClu/swan/5xFAD-WT_F_vs_5xFAD-HEMI_Clu-h2kbKI-HO_F_genotype_sex_du_iso.tsv',\n",
       " 'analysis/hClu/swan/5xFAD-WT_F_vs_5xFAD-WT_Clu-h2kbKI-HO_F_genotype_sex_du_tss.tsv',\n",
       " 'analysis/hClu/swan/5xFAD-WT_F_vs_5xFAD-WT_Clu-h2kbKI-HO_F_genotype_sex_du_tes.tsv',\n",
       " 'analysis/hClu/swan/5xFAD-WT_F_vs_5xFAD-WT_Clu-h2kbKI-HO_F_genotype_sex_du_ic.tsv',\n",
       " 'analysis/hClu/swan/5xFAD-WT_F_vs_5xFAD-WT_Clu-h2kbKI-HO_F_genotype_sex_du_iso.tsv',\n",
       " 'analysis/hClu/swan/5xFAD-HEMI_Clu-h2kbKI-HO_F_vs_5xFAD-WT_Clu-h2kbKI-HO_F_genotype_sex_du_tss.tsv',\n",
       " 'analysis/hClu/swan/5xFAD-HEMI_Clu-h2kbKI-HO_F_vs_5xFAD-WT_Clu-h2kbKI-HO_F_genotype_sex_du_tes.tsv',\n",
       " 'analysis/hClu/swan/5xFAD-HEMI_Clu-h2kbKI-HO_F_vs_5xFAD-WT_Clu-h2kbKI-HO_F_genotype_sex_du_ic.tsv',\n",
       " 'analysis/hClu/swan/5xFAD-HEMI_Clu-h2kbKI-HO_F_vs_5xFAD-WT_Clu-h2kbKI-HO_F_genotype_sex_du_iso.tsv',\n",
       " 'analysis/hTREM2/swan/hTREM2KI-WT_vs_hTREM2KI-HET_genotype_du_tss.tsv',\n",
       " 'analysis/hTREM2/swan/hTREM2KI-WT_vs_hTREM2KI-HET_genotype_du_tes.tsv',\n",
       " 'analysis/hTREM2/swan/hTREM2KI-WT_vs_hTREM2KI-HET_genotype_du_ic.tsv',\n",
       " 'analysis/hTREM2/swan/hTREM2KI-WT_vs_hTREM2KI-HET_genotype_du_iso.tsv',\n",
       " 'analysis/hTREM2/swan/hTREM2KI-WT_vs_hTREM2-R47HKI-HET_genotype_du_tss.tsv',\n",
       " 'analysis/hTREM2/swan/hTREM2KI-WT_vs_hTREM2-R47HKI-HET_genotype_du_tes.tsv',\n",
       " 'analysis/hTREM2/swan/hTREM2KI-WT_vs_hTREM2-R47HKI-HET_genotype_du_ic.tsv',\n",
       " 'analysis/hTREM2/swan/hTREM2KI-WT_vs_hTREM2-R47HKI-HET_genotype_du_iso.tsv',\n",
       " 'analysis/hTREM2/swan/hTREM2KI-HET_vs_hTREM2-R47HKI-HET_genotype_du_tss.tsv',\n",
       " 'analysis/hTREM2/swan/hTREM2KI-HET_vs_hTREM2-R47HKI-HET_genotype_du_tes.tsv',\n",
       " 'analysis/hTREM2/swan/hTREM2KI-HET_vs_hTREM2-R47HKI-HET_genotype_du_ic.tsv',\n",
       " 'analysis/hTREM2/swan/hTREM2KI-HET_vs_hTREM2-R47HKI-HET_genotype_du_iso.tsv',\n",
       " 'analysis/hTREM2/swan/hTREM2KI-WT_M_vs_hTREM2KI-HET_M_genotype_sex_du_tss.tsv',\n",
       " 'analysis/hTREM2/swan/hTREM2KI-WT_M_vs_hTREM2KI-HET_M_genotype_sex_du_tes.tsv',\n",
       " 'analysis/hTREM2/swan/hTREM2KI-WT_M_vs_hTREM2KI-HET_M_genotype_sex_du_ic.tsv',\n",
       " 'analysis/hTREM2/swan/hTREM2KI-WT_M_vs_hTREM2KI-HET_M_genotype_sex_du_iso.tsv',\n",
       " 'analysis/hTREM2/swan/hTREM2KI-WT_M_vs_hTREM2-R47HKI-HET_M_genotype_sex_du_tss.tsv',\n",
       " 'analysis/hTREM2/swan/hTREM2KI-WT_M_vs_hTREM2-R47HKI-HET_M_genotype_sex_du_tes.tsv',\n",
       " 'analysis/hTREM2/swan/hTREM2KI-WT_M_vs_hTREM2-R47HKI-HET_M_genotype_sex_du_ic.tsv',\n",
       " 'analysis/hTREM2/swan/hTREM2KI-WT_M_vs_hTREM2-R47HKI-HET_M_genotype_sex_du_iso.tsv',\n",
       " 'analysis/hTREM2/swan/hTREM2KI-HET_M_vs_hTREM2-R47HKI-HET_M_genotype_sex_du_tss.tsv',\n",
       " 'analysis/hTREM2/swan/hTREM2KI-HET_M_vs_hTREM2-R47HKI-HET_M_genotype_sex_du_tes.tsv',\n",
       " 'analysis/hTREM2/swan/hTREM2KI-HET_M_vs_hTREM2-R47HKI-HET_M_genotype_sex_du_ic.tsv',\n",
       " 'analysis/hTREM2/swan/hTREM2KI-HET_M_vs_hTREM2-R47HKI-HET_M_genotype_sex_du_iso.tsv',\n",
       " 'analysis/hTREM2/swan/hTREM2KI-WT_F_vs_hTREM2-R47HKI-HET_F_genotype_sex_du_tss.tsv',\n",
       " 'analysis/hTREM2/swan/hTREM2KI-WT_F_vs_hTREM2-R47HKI-HET_F_genotype_sex_du_tes.tsv',\n",
       " 'analysis/hTREM2/swan/hTREM2KI-WT_F_vs_hTREM2-R47HKI-HET_F_genotype_sex_du_ic.tsv',\n",
       " 'analysis/hTREM2/swan/hTREM2KI-WT_F_vs_hTREM2-R47HKI-HET_F_genotype_sex_du_iso.tsv',\n",
       " 'analysis/hTREM2/swan/hTREM2KI-WT_F_vs_hTREM2KI-HET_F_genotype_sex_du_tss.tsv',\n",
       " 'analysis/hTREM2/swan/hTREM2KI-WT_F_vs_hTREM2KI-HET_F_genotype_sex_du_tes.tsv',\n",
       " 'analysis/hTREM2/swan/hTREM2KI-WT_F_vs_hTREM2KI-HET_F_genotype_sex_du_ic.tsv',\n",
       " 'analysis/hTREM2/swan/hTREM2KI-WT_F_vs_hTREM2KI-HET_F_genotype_sex_du_iso.tsv',\n",
       " 'analysis/hTREM2/swan/hTREM2-R47HKI-HET_F_vs_hTREM2KI-HET_F_genotype_sex_du_tss.tsv',\n",
       " 'analysis/hTREM2/swan/hTREM2-R47HKI-HET_F_vs_hTREM2KI-HET_F_genotype_sex_du_tes.tsv',\n",
       " 'analysis/hTREM2/swan/hTREM2-R47HKI-HET_F_vs_hTREM2KI-HET_F_genotype_sex_du_ic.tsv',\n",
       " 'analysis/hTREM2/swan/hTREM2-R47HKI-HET_F_vs_hTREM2KI-HET_F_genotype_sex_du_iso.tsv',\n",
       " 'analysis/hABKI_Swe_IB_HET_WT/swan/hABKI-Swe-WT_vs_hMAPT-HO_hABKI-SweIb-HET_genotype_du_tss.tsv',\n",
       " 'analysis/hABKI_Swe_IB_HET_WT/swan/hABKI-Swe-WT_vs_hMAPT-HO_hABKI-SweIb-HET_genotype_du_tes.tsv',\n",
       " 'analysis/hABKI_Swe_IB_HET_WT/swan/hABKI-Swe-WT_vs_hMAPT-HO_hABKI-SweIb-HET_genotype_du_ic.tsv',\n",
       " 'analysis/hABKI_Swe_IB_HET_WT/swan/hABKI-Swe-WT_vs_hMAPT-HO_hABKI-SweIb-HET_genotype_du_iso.tsv',\n",
       " 'analysis/hABKI_Swe_IB_HET_WT/swan/hABKI-Swe-WT_M_vs_hMAPT-HO_hABKI-SweIb-HET_M_genotype_sex_du_tss.tsv',\n",
       " 'analysis/hABKI_Swe_IB_HET_WT/swan/hABKI-Swe-WT_M_vs_hMAPT-HO_hABKI-SweIb-HET_M_genotype_sex_du_tes.tsv',\n",
       " 'analysis/hABKI_Swe_IB_HET_WT/swan/hABKI-Swe-WT_M_vs_hMAPT-HO_hABKI-SweIb-HET_M_genotype_sex_du_ic.tsv',\n",
       " 'analysis/hABKI_Swe_IB_HET_WT/swan/hABKI-Swe-WT_M_vs_hMAPT-HO_hABKI-SweIb-HET_M_genotype_sex_du_iso.tsv',\n",
       " 'analysis/hABKI_Swe_IB_HET_WT/swan/hABKI-Swe-WT_F_vs_hMAPT-HO_hABKI-SweIb-HET_F_genotype_sex_du_tss.tsv',\n",
       " 'analysis/hABKI_Swe_IB_HET_WT/swan/hABKI-Swe-WT_F_vs_hMAPT-HO_hABKI-SweIb-HET_F_genotype_sex_du_tes.tsv',\n",
       " 'analysis/hABKI_Swe_IB_HET_WT/swan/hABKI-Swe-WT_F_vs_hMAPT-HO_hABKI-SweIb-HET_F_genotype_sex_du_ic.tsv',\n",
       " 'analysis/hABKI_Swe_IB_HET_WT/swan/hABKI-Swe-WT_F_vs_hMAPT-HO_hABKI-SweIb-HET_F_genotype_sex_du_iso.tsv']"
      ]
     },
     "execution_count": 6,
     "metadata": {},
     "output_type": "execute_result"
    }
   ],
   "source": [
    "get_de_cfg_entries(p_df, config['analysis']['swan']['du'], how='du')"
   ]
  },
  {
   "cell_type": "code",
   "execution_count": null,
   "id": "21408389-d12e-41c3-b387-929c96ed2af9",
   "metadata": {},
   "outputs": [],
   "source": []
  },
  {
   "cell_type": "code",
   "execution_count": null,
   "id": "b44f5c60-9e20-4070-beac-1f9b4664ab3f",
   "metadata": {},
   "outputs": [],
   "source": []
  },
  {
   "cell_type": "code",
   "execution_count": null,
   "id": "91505b7a-dc5e-499f-a863-509821824379",
   "metadata": {},
   "outputs": [],
   "source": []
  },
  {
   "cell_type": "code",
   "execution_count": null,
   "id": "b5e229ae-2649-49f1-a352-501170ff605b",
   "metadata": {},
   "outputs": [],
   "source": []
  },
  {
   "cell_type": "code",
   "execution_count": null,
   "id": "9f6d324f-a1df-4739-a096-3ac4a3f33c5c",
   "metadata": {},
   "outputs": [],
   "source": []
  },
  {
   "cell_type": "markdown",
   "id": "00459fd1-2c8f-4817-8533-140082e3af18",
   "metadata": {},
   "source": [
    "## 243001"
   ]
  },
  {
   "cell_type": "code",
   "execution_count": 3,
   "id": "6690eeed-b2f6-47f4-ac97-4ea714ef7d60",
   "metadata": {},
   "outputs": [],
   "source": [
    "config_tsv = 'config.tsv'\n",
    "p_meta_tsv = 'pseudochromosome_metadata.tsv'\n",
    "meta_tsv = 'mouse_metadata.tsv'\n",
    "geno_tsv = 'genotype_metadata.tsv'\n",
    "auto_dedupe = True\n",
    "\n",
    "df, p_df = parse_config_file(config_tsv,\n",
    "                       meta_tsv,\n",
    "                       p_meta_tsv,\n",
    "                       geno_tsv,\n",
    "                       auto_dedupe=auto_dedupe)"
   ]
  },
  {
   "cell_type": "code",
   "execution_count": 4,
   "id": "8f678b36-ac99-4f43-8c8f-9470afb40e0c",
   "metadata": {},
   "outputs": [
    {
     "data": {
      "text/plain": [
       "114"
      ]
     },
     "execution_count": 4,
     "metadata": {},
     "output_type": "execute_result"
    }
   ],
   "source": [
    "len(p_df.index)"
   ]
  },
  {
   "cell_type": "code",
   "execution_count": 5,
   "id": "ec750b2a-4518-410f-aec9-22c3c72d619b",
   "metadata": {},
   "outputs": [
    {
     "name": "stdout",
     "output_type": "stream",
     "text": [
      "> \u001b[0;32m/Users/fairliereese/Documents/programming/mortazavi_lab/bin/modelad_pipeline/proc_update_2/sm_utils.py\u001b[0m(232)\u001b[0;36mparse_config_file_analysis\u001b[0;34m()\u001b[0m\n",
      "\u001b[0;32m    230 \u001b[0;31m    \u001b[0mi3\u001b[0m \u001b[0;34m=\u001b[0m \u001b[0mlen\u001b[0m\u001b[0;34m(\u001b[0m\u001b[0mp_df\u001b[0m\u001b[0;34m[\u001b[0m\u001b[0;34m[\u001b[0m\u001b[0;34m'genotype'\u001b[0m\u001b[0;34m,\u001b[0m \u001b[0;34m'study'\u001b[0m\u001b[0;34m]\u001b[0m\u001b[0;34m]\u001b[0m\u001b[0;34m.\u001b[0m\u001b[0mdrop_duplicates\u001b[0m\u001b[0;34m(\u001b[0m\u001b[0;34m)\u001b[0m\u001b[0;34m.\u001b[0m\u001b[0mindex\u001b[0m\u001b[0;34m)\u001b[0m\u001b[0;34m\u001b[0m\u001b[0;34m\u001b[0m\u001b[0m\n",
      "\u001b[0m\u001b[0;32m    231 \u001b[0;31m    \u001b[0;32mimport\u001b[0m \u001b[0mpdb\u001b[0m\u001b[0;34m;\u001b[0m \u001b[0mpdb\u001b[0m\u001b[0;34m.\u001b[0m\u001b[0mset_trace\u001b[0m\u001b[0;34m(\u001b[0m\u001b[0;34m)\u001b[0m\u001b[0;34m\u001b[0m\u001b[0;34m\u001b[0m\u001b[0m\n",
      "\u001b[0m\u001b[0;32m--> 232 \u001b[0;31m    \u001b[0;32mif\u001b[0m \u001b[0;32mnot\u001b[0m \u001b[0;34m(\u001b[0m\u001b[0mi\u001b[0m\u001b[0;34m==\u001b[0m\u001b[0mi2\u001b[0m\u001b[0;34m==\u001b[0m\u001b[0mi3\u001b[0m\u001b[0;34m)\u001b[0m\u001b[0;34m:\u001b[0m\u001b[0;34m\u001b[0m\u001b[0;34m\u001b[0m\u001b[0m\n",
      "\u001b[0m\u001b[0;32m    233 \u001b[0;31m        genotypes = list(set(genotypes)-\\\n",
      "\u001b[0m\u001b[0;32m    234 \u001b[0;31m                         set(df.genotype.unique().tolist()))\n",
      "\u001b[0m\n"
     ]
    },
    {
     "name": "stdin",
     "output_type": "stream",
     "text": [
      "ipdb>  genotypes\n"
     ]
    },
    {
     "name": "stdout",
     "output_type": "stream",
     "text": [
      "['hMAPT-HO_hABKI-SweIb-HET', 'hMAPT-HO_hABKI-SweIb-WT', 'hABKI-Swe-WT', '5xFAD-HEMI_Clu-h2kbKI-HO', '5xFAD-WT', '5xFAD-HEMI', '5xFAD-WT_Clu-h2kbKI-HO', 'hTREM2KI-HET', 'hTREM2-R47HKI-HET', 'hTREM2KI-WT']\n"
     ]
    },
    {
     "name": "stdin",
     "output_type": "stream",
     "text": [
      "ipdb>  c\n"
     ]
    }
   ],
   "source": [
    "config_tsv = 'config.tsv'\n",
    "p_meta_tsv = 'pseudochromosome_metadata.tsv'\n",
    "meta_tsv = 'mouse_metadata.tsv'\n",
    "geno_tsv = 'genotype_metadata.tsv'\n",
    "an_meta_tsv = 'analysis_config.tsv'\n",
    "auto_dedupe = True\n",
    "\n",
    "df, p_df = parse_config_file_analysis(config_tsv,\n",
    "                       meta_tsv,\n",
    "                       p_meta_tsv,\n",
    "                       geno_tsv,\n",
    "                       an_meta_tsv,\n",
    "                       auto_dedupe=auto_dedupe)"
   ]
  },
  {
   "cell_type": "code",
   "execution_count": 6,
   "id": "4e7a02fa-1b00-4c67-ba30-81c33e2d5c7b",
   "metadata": {},
   "outputs": [
    {
     "data": {
      "text/html": [
       "<div>\n",
       "<style scoped>\n",
       "    .dataframe tbody tr th:only-of-type {\n",
       "        vertical-align: middle;\n",
       "    }\n",
       "\n",
       "    .dataframe tbody tr th {\n",
       "        vertical-align: top;\n",
       "    }\n",
       "\n",
       "    .dataframe thead th {\n",
       "        text-align: right;\n",
       "    }\n",
       "</style>\n",
       "<table border=\"1\" class=\"dataframe\">\n",
       "  <thead>\n",
       "    <tr style=\"text-align: right;\">\n",
       "      <th></th>\n",
       "      <th>genotype</th>\n",
       "      <th>study</th>\n",
       "      <th>analysis</th>\n",
       "    </tr>\n",
       "  </thead>\n",
       "  <tbody>\n",
       "    <tr>\n",
       "      <th>24</th>\n",
       "      <td>hABKI-Swe-WT</td>\n",
       "      <td>ad006</td>\n",
       "      <td>hABKI_Swe_IB_HET_WT</td>\n",
       "    </tr>\n",
       "    <tr>\n",
       "      <th>66</th>\n",
       "      <td>hMAPT-HO_hABKI-SweIb-WT</td>\n",
       "      <td>ad008</td>\n",
       "      <td>hABKI_Swe_IB_HET_WT</td>\n",
       "    </tr>\n",
       "    <tr>\n",
       "      <th>67</th>\n",
       "      <td>hMAPT-HO_hABKI-SweIb-HET</td>\n",
       "      <td>ad008</td>\n",
       "      <td>hABKI_Swe_IB_HET_WT</td>\n",
       "    </tr>\n",
       "    <tr>\n",
       "      <th>0</th>\n",
       "      <td>5xFAD-HEMI</td>\n",
       "      <td>ad003</td>\n",
       "      <td>hClu</td>\n",
       "    </tr>\n",
       "    <tr>\n",
       "      <th>6</th>\n",
       "      <td>5xFAD-WT</td>\n",
       "      <td>ad003</td>\n",
       "      <td>hClu</td>\n",
       "    </tr>\n",
       "    <tr>\n",
       "      <th>36</th>\n",
       "      <td>5xFAD-HEMI_Clu-h2kbKI-HO</td>\n",
       "      <td>ad003</td>\n",
       "      <td>hClu</td>\n",
       "    </tr>\n",
       "    <tr>\n",
       "      <th>38</th>\n",
       "      <td>5xFAD-WT_Clu-h2kbKI-HO</td>\n",
       "      <td>ad003</td>\n",
       "      <td>hClu</td>\n",
       "    </tr>\n",
       "    <tr>\n",
       "      <th>12</th>\n",
       "      <td>hTREM2KI-WT</td>\n",
       "      <td>ad004</td>\n",
       "      <td>hTREM2</td>\n",
       "    </tr>\n",
       "    <tr>\n",
       "      <th>48</th>\n",
       "      <td>hTREM2KI-HET</td>\n",
       "      <td>ad004</td>\n",
       "      <td>hTREM2</td>\n",
       "    </tr>\n",
       "    <tr>\n",
       "      <th>50</th>\n",
       "      <td>hTREM2-R47HKI-HET</td>\n",
       "      <td>ad004</td>\n",
       "      <td>hTREM2</td>\n",
       "    </tr>\n",
       "  </tbody>\n",
       "</table>\n",
       "</div>"
      ],
      "text/plain": [
       "                    genotype  study             analysis\n",
       "24              hABKI-Swe-WT  ad006  hABKI_Swe_IB_HET_WT\n",
       "66   hMAPT-HO_hABKI-SweIb-WT  ad008  hABKI_Swe_IB_HET_WT\n",
       "67  hMAPT-HO_hABKI-SweIb-HET  ad008  hABKI_Swe_IB_HET_WT\n",
       "0                 5xFAD-HEMI  ad003                 hClu\n",
       "6                   5xFAD-WT  ad003                 hClu\n",
       "36  5xFAD-HEMI_Clu-h2kbKI-HO  ad003                 hClu\n",
       "38    5xFAD-WT_Clu-h2kbKI-HO  ad003                 hClu\n",
       "12               hTREM2KI-WT  ad004               hTREM2\n",
       "48              hTREM2KI-HET  ad004               hTREM2\n",
       "50         hTREM2-R47HKI-HET  ad004               hTREM2"
      ]
     },
     "execution_count": 6,
     "metadata": {},
     "output_type": "execute_result"
    }
   ],
   "source": [
    "p_df[['genotype', 'study', 'analysis']].drop_duplicates().sort_values(by='analysis')"
   ]
  },
  {
   "cell_type": "code",
   "execution_count": 9,
   "id": "9a82cc06-7506-4eca-b2f0-087a10227bae",
   "metadata": {},
   "outputs": [
    {
     "data": {
      "text/plain": [
       "7"
      ]
     },
     "execution_count": 9,
     "metadata": {},
     "output_type": "execute_result"
    }
   ],
   "source": [
    "len(p_df[['genotype', 'study', 'analysis']].drop_duplicates().index)"
   ]
  },
  {
   "cell_type": "code",
   "execution_count": 10,
   "id": "e5745087-ffb6-4b91-b1d7-4a8ca01e1d51",
   "metadata": {},
   "outputs": [
    {
     "data": {
      "text/plain": [
       "53"
      ]
     },
     "execution_count": 10,
     "metadata": {},
     "output_type": "execute_result"
    }
   ],
   "source": [
    "len(df.index)"
   ]
  },
  {
   "cell_type": "code",
   "execution_count": null,
   "id": "45360b45-b2a9-485e-94b4-17ad5986d900",
   "metadata": {},
   "outputs": [],
   "source": []
  },
  {
   "cell_type": "code",
   "execution_count": null,
   "id": "0a6f5254-abd1-402a-8c13-9c9cbdf94c9d",
   "metadata": {},
   "outputs": [],
   "source": []
  },
  {
   "cell_type": "code",
   "execution_count": null,
   "id": "bf9c2745-4361-426d-bf02-38d3db0acd4a",
   "metadata": {},
   "outputs": [],
   "source": []
  },
  {
   "cell_type": "code",
   "execution_count": null,
   "id": "9bdc496a-8f83-405b-8c78-2d9ebe50a464",
   "metadata": {},
   "outputs": [],
   "source": []
  },
  {
   "cell_type": "code",
   "execution_count": null,
   "id": "dafc351e-f7ff-4adc-b6b4-1f0c6c0141f2",
   "metadata": {},
   "outputs": [],
   "source": []
  },
  {
   "cell_type": "code",
   "execution_count": null,
   "id": "d05076db-529f-42a1-bf67-cc7b2d3f4598",
   "metadata": {},
   "outputs": [],
   "source": []
  },
  {
   "cell_type": "code",
   "execution_count": null,
   "id": "8435af07-d2d8-4c15-b3a0-27fb670671e6",
   "metadata": {},
   "outputs": [],
   "source": []
  },
  {
   "cell_type": "code",
   "execution_count": null,
   "id": "20252b07-849b-404e-8b94-145ca6deef3e",
   "metadata": {},
   "outputs": [],
   "source": []
  },
  {
   "cell_type": "code",
   "execution_count": null,
   "id": "7183a2ea-3bd9-42d3-ba7a-d34b7fb341a9",
   "metadata": {},
   "outputs": [],
   "source": []
  },
  {
   "cell_type": "code",
   "execution_count": null,
   "id": "fd618356-6894-40af-9c5f-710a57e859a6",
   "metadata": {},
   "outputs": [],
   "source": []
  },
  {
   "cell_type": "markdown",
   "id": "4540666e-484c-45cb-9002-1907ef4b69c2",
   "metadata": {},
   "source": [
    "## 240129"
   ]
  },
  {
   "cell_type": "code",
   "execution_count": 3,
   "id": "399a35b2-1a07-4831-83a4-42f4f68ee383",
   "metadata": {},
   "outputs": [],
   "source": [
    "configfile: 'config.yml'\n",
    "config_tsv = 'config.tsv'\n",
    "p_meta_tsv = 'pseudochromosome_metadata.tsv'\n",
    "meta_tsv = 'mouse_metadata.tsv'\n",
    "an_meta_tsv = 'test_analysis_config.tsv'\n",
    "auto_dedupe = True\n",
    "\n",
    "df, p_df = parse_config_file_analysis(config_tsv,\n",
    "                       meta_tsv,\n",
    "                       p_meta_tsv,\n",
    "                       an_meta_tsv,\n",
    "                       auto_dedupe=auto_dedupe)"
   ]
  },
  {
   "cell_type": "code",
   "execution_count": 4,
   "id": "cbd36554-0b39-48a6-8667-491352b16778",
   "metadata": {},
   "outputs": [
    {
     "data": {
      "text/plain": [
       "13"
      ]
     },
     "execution_count": 4,
     "metadata": {},
     "output_type": "execute_result"
    }
   ],
   "source": [
    "len(p_df.index)"
   ]
  },
  {
   "cell_type": "code",
   "execution_count": 5,
   "id": "b03967ad-d4b1-43da-81e0-e57aa0e889c2",
   "metadata": {},
   "outputs": [
    {
     "data": {
      "text/plain": [
       "Index(['batch', 'platform', 'fname', 'basename', 'path', 'flowcell',\n",
       "       'file_stem', 'chop_num', 'sample_temp', 'mouse_id', 'study', 'genotype',\n",
       "       'sex', 'age', 'tissue', 'pseudochrom_needed', 'pseudochrom', 'sample',\n",
       "       'biorep_num', 'dataset', 'source', 'genotype_sex', 'human_gene',\n",
       "       'mouse_gene', 'locus_type', 'notes', 'analysis', 'cerberus_run'],\n",
       "      dtype='object')"
      ]
     },
     "execution_count": 5,
     "metadata": {},
     "output_type": "execute_result"
    }
   ],
   "source": [
    "p_df.columns"
   ]
  },
  {
   "cell_type": "code",
   "execution_count": 6,
   "id": "e2fdd113-419a-4386-8a22-89e9e6796b2c",
   "metadata": {},
   "outputs": [
    {
     "data": {
      "text/plain": [
       "Index(['batch', 'platform', 'fname', 'basename', 'path', 'flowcell',\n",
       "       'file_stem', 'chop_num', 'sample_temp', 'mouse_id', 'study', 'genotype',\n",
       "       'sex', 'age', 'tissue', 'pseudochrom_needed', 'pseudochrom', 'sample',\n",
       "       'biorep_num', 'dataset', 'source', 'genotype_sex', 'cerberus_run'],\n",
       "      dtype='object')"
      ]
     },
     "execution_count": 6,
     "metadata": {},
     "output_type": "execute_result"
    }
   ],
   "source": [
    "df.columns"
   ]
  },
  {
   "cell_type": "code",
   "execution_count": null,
   "id": "16c8e6c8-2bda-4479-afcc-41b4914093f0",
   "metadata": {},
   "outputs": [],
   "source": [
    "wc = {'}"
   ]
  },
  {
   "cell_type": "code",
   "execution_count": 12,
   "id": "303fda36-3dfe-428a-8aa0-100f7831d074",
   "metadata": {},
   "outputs": [
    {
     "ename": "NameError",
     "evalue": "name 'wc' is not defined",
     "output_type": "error",
     "traceback": [
      "\u001b[0;31m---------------------------------------------------------------------------\u001b[0m",
      "\u001b[0;31mNameError\u001b[0m                                 Traceback (most recent call last)",
      "\u001b[0;32m<ipython-input-12-773142616077>\u001b[0m in \u001b[0;36m<module>\u001b[0;34m\u001b[0m\n\u001b[0;32m----> 1\u001b[0;31m \u001b[0mget_cfg_entries\u001b[0m\u001b[0;34m(\u001b[0m\u001b[0mwc\u001b[0m\u001b[0;34m,\u001b[0m \u001b[0mdf\u001b[0m\u001b[0;34m,\u001b[0m \u001b[0mconfig\u001b[0m\u001b[0;34m[\u001b[0m\u001b[0;34m'analysis'\u001b[0m\u001b[0;34m]\u001b[0m\u001b[0;34m[\u001b[0m\u001b[0;34m'cerberus'\u001b[0m\u001b[0;34m]\u001b[0m\u001b[0;34m[\u001b[0m\u001b[0;34m'gtf'\u001b[0m\u001b[0;34m]\u001b[0m\u001b[0;34m)\u001b[0m\u001b[0;34m\u001b[0m\u001b[0;34m\u001b[0m\u001b[0m\n\u001b[0m",
      "\u001b[0;31mNameError\u001b[0m: name 'wc' is not defined"
     ]
    }
   ],
   "source": [
    "get_cfg_entries(wc, df, config['analysis']['cerberus']['gtf'])"
   ]
  },
  {
   "cell_type": "code",
   "execution_count": 5,
   "id": "deb62703-a769-4106-bf7c-f336dce7b5f1",
   "metadata": {},
   "outputs": [
    {
     "data": {
      "text/plain": [
       "['analysis/hClu/swan/5xFADHEMI_vs_C57B6J_genotype_du_tss.tsv',\n",
       " 'analysis/hClu/swan/5xFADHEMI_vs_C57B6J_genotype_du_tes.tsv',\n",
       " 'analysis/hClu/swan/5xFADHEMI_vs_C57B6J_genotype_du_ic.tsv',\n",
       " 'analysis/hClu/swan/5xFADHEMI_vs_C57B6J_genotype_du_iso.tsv',\n",
       " 'analysis/hClu/swan/5xFADHEMI_vs_5xCLU-h2kbKI_HO_genotype_du_tss.tsv',\n",
       " 'analysis/hClu/swan/5xFADHEMI_vs_5xCLU-h2kbKI_HO_genotype_du_tes.tsv',\n",
       " 'analysis/hClu/swan/5xFADHEMI_vs_5xCLU-h2kbKI_HO_genotype_du_ic.tsv',\n",
       " 'analysis/hClu/swan/5xFADHEMI_vs_5xCLU-h2kbKI_HO_genotype_du_iso.tsv',\n",
       " 'analysis/hClu/swan/5xFADHEMI_vs_CLU-h2kbKI_HO_genotype_du_tss.tsv',\n",
       " 'analysis/hClu/swan/5xFADHEMI_vs_CLU-h2kbKI_HO_genotype_du_tes.tsv',\n",
       " 'analysis/hClu/swan/5xFADHEMI_vs_CLU-h2kbKI_HO_genotype_du_ic.tsv',\n",
       " 'analysis/hClu/swan/5xFADHEMI_vs_CLU-h2kbKI_HO_genotype_du_iso.tsv',\n",
       " 'analysis/hClu/swan/C57B6J_vs_5xCLU-h2kbKI_HO_genotype_du_tss.tsv',\n",
       " 'analysis/hClu/swan/C57B6J_vs_5xCLU-h2kbKI_HO_genotype_du_tes.tsv',\n",
       " 'analysis/hClu/swan/C57B6J_vs_5xCLU-h2kbKI_HO_genotype_du_ic.tsv',\n",
       " 'analysis/hClu/swan/C57B6J_vs_5xCLU-h2kbKI_HO_genotype_du_iso.tsv',\n",
       " 'analysis/hClu/swan/C57B6J_vs_CLU-h2kbKI_HO_genotype_du_tss.tsv',\n",
       " 'analysis/hClu/swan/C57B6J_vs_CLU-h2kbKI_HO_genotype_du_tes.tsv',\n",
       " 'analysis/hClu/swan/C57B6J_vs_CLU-h2kbKI_HO_genotype_du_ic.tsv',\n",
       " 'analysis/hClu/swan/C57B6J_vs_CLU-h2kbKI_HO_genotype_du_iso.tsv',\n",
       " 'analysis/hClu/swan/5xCLU-h2kbKI_HO_vs_CLU-h2kbKI_HO_genotype_du_tss.tsv',\n",
       " 'analysis/hClu/swan/5xCLU-h2kbKI_HO_vs_CLU-h2kbKI_HO_genotype_du_tes.tsv',\n",
       " 'analysis/hClu/swan/5xCLU-h2kbKI_HO_vs_CLU-h2kbKI_HO_genotype_du_ic.tsv',\n",
       " 'analysis/hClu/swan/5xCLU-h2kbKI_HO_vs_CLU-h2kbKI_HO_genotype_du_iso.tsv',\n",
       " 'analysis/hClu/swan/5xFADHEMI_F_vs_C57B6J_F_genotype_sex_du_tss.tsv',\n",
       " 'analysis/hClu/swan/5xFADHEMI_F_vs_C57B6J_F_genotype_sex_du_tes.tsv',\n",
       " 'analysis/hClu/swan/5xFADHEMI_F_vs_C57B6J_F_genotype_sex_du_ic.tsv',\n",
       " 'analysis/hClu/swan/5xFADHEMI_F_vs_C57B6J_F_genotype_sex_du_iso.tsv',\n",
       " 'analysis/hClu/swan/5xFADHEMI_F_vs_5xCLU-h2kbKI_HO_F_genotype_sex_du_tss.tsv',\n",
       " 'analysis/hClu/swan/5xFADHEMI_F_vs_5xCLU-h2kbKI_HO_F_genotype_sex_du_tes.tsv',\n",
       " 'analysis/hClu/swan/5xFADHEMI_F_vs_5xCLU-h2kbKI_HO_F_genotype_sex_du_ic.tsv',\n",
       " 'analysis/hClu/swan/5xFADHEMI_F_vs_5xCLU-h2kbKI_HO_F_genotype_sex_du_iso.tsv',\n",
       " 'analysis/hClu/swan/5xFADHEMI_F_vs_CLU-h2kbKI_HO_F_genotype_sex_du_tss.tsv',\n",
       " 'analysis/hClu/swan/5xFADHEMI_F_vs_CLU-h2kbKI_HO_F_genotype_sex_du_tes.tsv',\n",
       " 'analysis/hClu/swan/5xFADHEMI_F_vs_CLU-h2kbKI_HO_F_genotype_sex_du_ic.tsv',\n",
       " 'analysis/hClu/swan/5xFADHEMI_F_vs_CLU-h2kbKI_HO_F_genotype_sex_du_iso.tsv',\n",
       " 'analysis/hClu/swan/C57B6J_F_vs_5xCLU-h2kbKI_HO_F_genotype_sex_du_tss.tsv',\n",
       " 'analysis/hClu/swan/C57B6J_F_vs_5xCLU-h2kbKI_HO_F_genotype_sex_du_tes.tsv',\n",
       " 'analysis/hClu/swan/C57B6J_F_vs_5xCLU-h2kbKI_HO_F_genotype_sex_du_ic.tsv',\n",
       " 'analysis/hClu/swan/C57B6J_F_vs_5xCLU-h2kbKI_HO_F_genotype_sex_du_iso.tsv',\n",
       " 'analysis/hClu/swan/C57B6J_F_vs_CLU-h2kbKI_HO_F_genotype_sex_du_tss.tsv',\n",
       " 'analysis/hClu/swan/C57B6J_F_vs_CLU-h2kbKI_HO_F_genotype_sex_du_tes.tsv',\n",
       " 'analysis/hClu/swan/C57B6J_F_vs_CLU-h2kbKI_HO_F_genotype_sex_du_ic.tsv',\n",
       " 'analysis/hClu/swan/C57B6J_F_vs_CLU-h2kbKI_HO_F_genotype_sex_du_iso.tsv',\n",
       " 'analysis/hClu/swan/5xCLU-h2kbKI_HO_F_vs_CLU-h2kbKI_HO_F_genotype_sex_du_tss.tsv',\n",
       " 'analysis/hClu/swan/5xCLU-h2kbKI_HO_F_vs_CLU-h2kbKI_HO_F_genotype_sex_du_tes.tsv',\n",
       " 'analysis/hClu/swan/5xCLU-h2kbKI_HO_F_vs_CLU-h2kbKI_HO_F_genotype_sex_du_ic.tsv',\n",
       " 'analysis/hClu/swan/5xCLU-h2kbKI_HO_F_vs_CLU-h2kbKI_HO_F_genotype_sex_du_iso.tsv',\n",
       " 'analysis/hABKI_Swe_IB_HET_WT/swan/C57B6J_vs_hABKI_Swe_IB_WT_genotype_du_tss.tsv',\n",
       " 'analysis/hABKI_Swe_IB_HET_WT/swan/C57B6J_vs_hABKI_Swe_IB_WT_genotype_du_tes.tsv',\n",
       " 'analysis/hABKI_Swe_IB_HET_WT/swan/C57B6J_vs_hABKI_Swe_IB_WT_genotype_du_ic.tsv',\n",
       " 'analysis/hABKI_Swe_IB_HET_WT/swan/C57B6J_vs_hABKI_Swe_IB_WT_genotype_du_iso.tsv',\n",
       " 'analysis/hABKI_Swe_IB_HET_WT/swan/C57B6J_vs_hABKI_Swe_IB_HET_genotype_du_tss.tsv',\n",
       " 'analysis/hABKI_Swe_IB_HET_WT/swan/C57B6J_vs_hABKI_Swe_IB_HET_genotype_du_tes.tsv',\n",
       " 'analysis/hABKI_Swe_IB_HET_WT/swan/C57B6J_vs_hABKI_Swe_IB_HET_genotype_du_ic.tsv',\n",
       " 'analysis/hABKI_Swe_IB_HET_WT/swan/C57B6J_vs_hABKI_Swe_IB_HET_genotype_du_iso.tsv',\n",
       " 'analysis/hABKI_Swe_IB_HET_WT/swan/hABKI_Swe_IB_WT_vs_hABKI_Swe_IB_HET_genotype_du_tss.tsv',\n",
       " 'analysis/hABKI_Swe_IB_HET_WT/swan/hABKI_Swe_IB_WT_vs_hABKI_Swe_IB_HET_genotype_du_tes.tsv',\n",
       " 'analysis/hABKI_Swe_IB_HET_WT/swan/hABKI_Swe_IB_WT_vs_hABKI_Swe_IB_HET_genotype_du_ic.tsv',\n",
       " 'analysis/hABKI_Swe_IB_HET_WT/swan/hABKI_Swe_IB_WT_vs_hABKI_Swe_IB_HET_genotype_du_iso.tsv',\n",
       " 'analysis/hABKI_Swe_IB_HET_WT/swan/C57B6J_M_vs_hABKI_Swe_IB_WT_M_genotype_sex_du_tss.tsv',\n",
       " 'analysis/hABKI_Swe_IB_HET_WT/swan/C57B6J_M_vs_hABKI_Swe_IB_WT_M_genotype_sex_du_tes.tsv',\n",
       " 'analysis/hABKI_Swe_IB_HET_WT/swan/C57B6J_M_vs_hABKI_Swe_IB_WT_M_genotype_sex_du_ic.tsv',\n",
       " 'analysis/hABKI_Swe_IB_HET_WT/swan/C57B6J_M_vs_hABKI_Swe_IB_WT_M_genotype_sex_du_iso.tsv',\n",
       " 'analysis/hABKI_Swe_IB_HET_WT/swan/C57B6J_M_vs_hABKI_Swe_IB_HET_M_genotype_sex_du_tss.tsv',\n",
       " 'analysis/hABKI_Swe_IB_HET_WT/swan/C57B6J_M_vs_hABKI_Swe_IB_HET_M_genotype_sex_du_tes.tsv',\n",
       " 'analysis/hABKI_Swe_IB_HET_WT/swan/C57B6J_M_vs_hABKI_Swe_IB_HET_M_genotype_sex_du_ic.tsv',\n",
       " 'analysis/hABKI_Swe_IB_HET_WT/swan/C57B6J_M_vs_hABKI_Swe_IB_HET_M_genotype_sex_du_iso.tsv',\n",
       " 'analysis/hABKI_Swe_IB_HET_WT/swan/hABKI_Swe_IB_WT_M_vs_hABKI_Swe_IB_HET_M_genotype_sex_du_tss.tsv',\n",
       " 'analysis/hABKI_Swe_IB_HET_WT/swan/hABKI_Swe_IB_WT_M_vs_hABKI_Swe_IB_HET_M_genotype_sex_du_tes.tsv',\n",
       " 'analysis/hABKI_Swe_IB_HET_WT/swan/hABKI_Swe_IB_WT_M_vs_hABKI_Swe_IB_HET_M_genotype_sex_du_ic.tsv',\n",
       " 'analysis/hABKI_Swe_IB_HET_WT/swan/hABKI_Swe_IB_WT_M_vs_hABKI_Swe_IB_HET_M_genotype_sex_du_iso.tsv',\n",
       " 'analysis/hABKI_Swe_IB_HET_WT/swan/C57B6J_F_vs_hABKI_Swe_IB_WT_F_genotype_sex_du_tss.tsv',\n",
       " 'analysis/hABKI_Swe_IB_HET_WT/swan/C57B6J_F_vs_hABKI_Swe_IB_WT_F_genotype_sex_du_tes.tsv',\n",
       " 'analysis/hABKI_Swe_IB_HET_WT/swan/C57B6J_F_vs_hABKI_Swe_IB_WT_F_genotype_sex_du_ic.tsv',\n",
       " 'analysis/hABKI_Swe_IB_HET_WT/swan/C57B6J_F_vs_hABKI_Swe_IB_WT_F_genotype_sex_du_iso.tsv',\n",
       " 'analysis/hABKI_Swe_IB_HET_WT/swan/C57B6J_F_vs_hABKI_Swe_IB_HET_F_genotype_sex_du_tss.tsv',\n",
       " 'analysis/hABKI_Swe_IB_HET_WT/swan/C57B6J_F_vs_hABKI_Swe_IB_HET_F_genotype_sex_du_tes.tsv',\n",
       " 'analysis/hABKI_Swe_IB_HET_WT/swan/C57B6J_F_vs_hABKI_Swe_IB_HET_F_genotype_sex_du_ic.tsv',\n",
       " 'analysis/hABKI_Swe_IB_HET_WT/swan/C57B6J_F_vs_hABKI_Swe_IB_HET_F_genotype_sex_du_iso.tsv',\n",
       " 'analysis/hABKI_Swe_IB_HET_WT/swan/hABKI_Swe_IB_WT_F_vs_hABKI_Swe_IB_HET_F_genotype_sex_du_tss.tsv',\n",
       " 'analysis/hABKI_Swe_IB_HET_WT/swan/hABKI_Swe_IB_WT_F_vs_hABKI_Swe_IB_HET_F_genotype_sex_du_tes.tsv',\n",
       " 'analysis/hABKI_Swe_IB_HET_WT/swan/hABKI_Swe_IB_WT_F_vs_hABKI_Swe_IB_HET_F_genotype_sex_du_ic.tsv',\n",
       " 'analysis/hABKI_Swe_IB_HET_WT/swan/hABKI_Swe_IB_WT_F_vs_hABKI_Swe_IB_HET_F_genotype_sex_du_iso.tsv',\n",
       " 'analysis/hTREM2/swan/C57B6J_vs_hTREM2_KI_WT_genotype_du_tss.tsv',\n",
       " 'analysis/hTREM2/swan/C57B6J_vs_hTREM2_KI_WT_genotype_du_tes.tsv',\n",
       " 'analysis/hTREM2/swan/C57B6J_vs_hTREM2_KI_WT_genotype_du_ic.tsv',\n",
       " 'analysis/hTREM2/swan/C57B6J_vs_hTREM2_KI_WT_genotype_du_iso.tsv',\n",
       " 'analysis/hTREM2/swan/C57B6J_vs_hTREM2_KI_HET_genotype_du_tss.tsv',\n",
       " 'analysis/hTREM2/swan/C57B6J_vs_hTREM2_KI_HET_genotype_du_tes.tsv',\n",
       " 'analysis/hTREM2/swan/C57B6J_vs_hTREM2_KI_HET_genotype_du_ic.tsv',\n",
       " 'analysis/hTREM2/swan/C57B6J_vs_hTREM2_KI_HET_genotype_du_iso.tsv',\n",
       " 'analysis/hTREM2/swan/C57B6J_vs_hTREM2-R47HKI_HET_genotype_du_tss.tsv',\n",
       " 'analysis/hTREM2/swan/C57B6J_vs_hTREM2-R47HKI_HET_genotype_du_tes.tsv',\n",
       " 'analysis/hTREM2/swan/C57B6J_vs_hTREM2-R47HKI_HET_genotype_du_ic.tsv',\n",
       " 'analysis/hTREM2/swan/C57B6J_vs_hTREM2-R47HKI_HET_genotype_du_iso.tsv',\n",
       " 'analysis/hTREM2/swan/hTREM2_KI_WT_vs_hTREM2_KI_HET_genotype_du_tss.tsv',\n",
       " 'analysis/hTREM2/swan/hTREM2_KI_WT_vs_hTREM2_KI_HET_genotype_du_tes.tsv',\n",
       " 'analysis/hTREM2/swan/hTREM2_KI_WT_vs_hTREM2_KI_HET_genotype_du_ic.tsv',\n",
       " 'analysis/hTREM2/swan/hTREM2_KI_WT_vs_hTREM2_KI_HET_genotype_du_iso.tsv',\n",
       " 'analysis/hTREM2/swan/hTREM2_KI_WT_vs_hTREM2-R47HKI_HET_genotype_du_tss.tsv',\n",
       " 'analysis/hTREM2/swan/hTREM2_KI_WT_vs_hTREM2-R47HKI_HET_genotype_du_tes.tsv',\n",
       " 'analysis/hTREM2/swan/hTREM2_KI_WT_vs_hTREM2-R47HKI_HET_genotype_du_ic.tsv',\n",
       " 'analysis/hTREM2/swan/hTREM2_KI_WT_vs_hTREM2-R47HKI_HET_genotype_du_iso.tsv',\n",
       " 'analysis/hTREM2/swan/hTREM2_KI_HET_vs_hTREM2-R47HKI_HET_genotype_du_tss.tsv',\n",
       " 'analysis/hTREM2/swan/hTREM2_KI_HET_vs_hTREM2-R47HKI_HET_genotype_du_tes.tsv',\n",
       " 'analysis/hTREM2/swan/hTREM2_KI_HET_vs_hTREM2-R47HKI_HET_genotype_du_ic.tsv',\n",
       " 'analysis/hTREM2/swan/hTREM2_KI_HET_vs_hTREM2-R47HKI_HET_genotype_du_iso.tsv',\n",
       " 'analysis/hTREM2/swan/C57B6J_M_vs_hTREM2_KI_WT_M_genotype_sex_du_tss.tsv',\n",
       " 'analysis/hTREM2/swan/C57B6J_M_vs_hTREM2_KI_WT_M_genotype_sex_du_tes.tsv',\n",
       " 'analysis/hTREM2/swan/C57B6J_M_vs_hTREM2_KI_WT_M_genotype_sex_du_ic.tsv',\n",
       " 'analysis/hTREM2/swan/C57B6J_M_vs_hTREM2_KI_WT_M_genotype_sex_du_iso.tsv',\n",
       " 'analysis/hTREM2/swan/C57B6J_M_vs_hTREM2_KI_HET_M_genotype_sex_du_tss.tsv',\n",
       " 'analysis/hTREM2/swan/C57B6J_M_vs_hTREM2_KI_HET_M_genotype_sex_du_tes.tsv',\n",
       " 'analysis/hTREM2/swan/C57B6J_M_vs_hTREM2_KI_HET_M_genotype_sex_du_ic.tsv',\n",
       " 'analysis/hTREM2/swan/C57B6J_M_vs_hTREM2_KI_HET_M_genotype_sex_du_iso.tsv',\n",
       " 'analysis/hTREM2/swan/C57B6J_M_vs_hTREM2-R47HKI_HET_M_genotype_sex_du_tss.tsv',\n",
       " 'analysis/hTREM2/swan/C57B6J_M_vs_hTREM2-R47HKI_HET_M_genotype_sex_du_tes.tsv',\n",
       " 'analysis/hTREM2/swan/C57B6J_M_vs_hTREM2-R47HKI_HET_M_genotype_sex_du_ic.tsv',\n",
       " 'analysis/hTREM2/swan/C57B6J_M_vs_hTREM2-R47HKI_HET_M_genotype_sex_du_iso.tsv',\n",
       " 'analysis/hTREM2/swan/hTREM2_KI_WT_M_vs_hTREM2_KI_HET_M_genotype_sex_du_tss.tsv',\n",
       " 'analysis/hTREM2/swan/hTREM2_KI_WT_M_vs_hTREM2_KI_HET_M_genotype_sex_du_tes.tsv',\n",
       " 'analysis/hTREM2/swan/hTREM2_KI_WT_M_vs_hTREM2_KI_HET_M_genotype_sex_du_ic.tsv',\n",
       " 'analysis/hTREM2/swan/hTREM2_KI_WT_M_vs_hTREM2_KI_HET_M_genotype_sex_du_iso.tsv',\n",
       " 'analysis/hTREM2/swan/hTREM2_KI_WT_M_vs_hTREM2-R47HKI_HET_M_genotype_sex_du_tss.tsv',\n",
       " 'analysis/hTREM2/swan/hTREM2_KI_WT_M_vs_hTREM2-R47HKI_HET_M_genotype_sex_du_tes.tsv',\n",
       " 'analysis/hTREM2/swan/hTREM2_KI_WT_M_vs_hTREM2-R47HKI_HET_M_genotype_sex_du_ic.tsv',\n",
       " 'analysis/hTREM2/swan/hTREM2_KI_WT_M_vs_hTREM2-R47HKI_HET_M_genotype_sex_du_iso.tsv',\n",
       " 'analysis/hTREM2/swan/hTREM2_KI_HET_M_vs_hTREM2-R47HKI_HET_M_genotype_sex_du_tss.tsv',\n",
       " 'analysis/hTREM2/swan/hTREM2_KI_HET_M_vs_hTREM2-R47HKI_HET_M_genotype_sex_du_tes.tsv',\n",
       " 'analysis/hTREM2/swan/hTREM2_KI_HET_M_vs_hTREM2-R47HKI_HET_M_genotype_sex_du_ic.tsv',\n",
       " 'analysis/hTREM2/swan/hTREM2_KI_HET_M_vs_hTREM2-R47HKI_HET_M_genotype_sex_du_iso.tsv',\n",
       " 'analysis/hTREM2/swan/C57B6J_F_vs_hTREM2_KI_WT_F_genotype_sex_du_tss.tsv',\n",
       " 'analysis/hTREM2/swan/C57B6J_F_vs_hTREM2_KI_WT_F_genotype_sex_du_tes.tsv',\n",
       " 'analysis/hTREM2/swan/C57B6J_F_vs_hTREM2_KI_WT_F_genotype_sex_du_ic.tsv',\n",
       " 'analysis/hTREM2/swan/C57B6J_F_vs_hTREM2_KI_WT_F_genotype_sex_du_iso.tsv',\n",
       " 'analysis/hTREM2/swan/C57B6J_F_vs_hTREM2-R47HKI_HET_F_genotype_sex_du_tss.tsv',\n",
       " 'analysis/hTREM2/swan/C57B6J_F_vs_hTREM2-R47HKI_HET_F_genotype_sex_du_tes.tsv',\n",
       " 'analysis/hTREM2/swan/C57B6J_F_vs_hTREM2-R47HKI_HET_F_genotype_sex_du_ic.tsv',\n",
       " 'analysis/hTREM2/swan/C57B6J_F_vs_hTREM2-R47HKI_HET_F_genotype_sex_du_iso.tsv',\n",
       " 'analysis/hTREM2/swan/C57B6J_F_vs_hTREM2_KI_HET_F_genotype_sex_du_tss.tsv',\n",
       " 'analysis/hTREM2/swan/C57B6J_F_vs_hTREM2_KI_HET_F_genotype_sex_du_tes.tsv',\n",
       " 'analysis/hTREM2/swan/C57B6J_F_vs_hTREM2_KI_HET_F_genotype_sex_du_ic.tsv',\n",
       " 'analysis/hTREM2/swan/C57B6J_F_vs_hTREM2_KI_HET_F_genotype_sex_du_iso.tsv',\n",
       " 'analysis/hTREM2/swan/hTREM2_KI_WT_F_vs_hTREM2-R47HKI_HET_F_genotype_sex_du_tss.tsv',\n",
       " 'analysis/hTREM2/swan/hTREM2_KI_WT_F_vs_hTREM2-R47HKI_HET_F_genotype_sex_du_tes.tsv',\n",
       " 'analysis/hTREM2/swan/hTREM2_KI_WT_F_vs_hTREM2-R47HKI_HET_F_genotype_sex_du_ic.tsv',\n",
       " 'analysis/hTREM2/swan/hTREM2_KI_WT_F_vs_hTREM2-R47HKI_HET_F_genotype_sex_du_iso.tsv',\n",
       " 'analysis/hTREM2/swan/hTREM2_KI_WT_F_vs_hTREM2_KI_HET_F_genotype_sex_du_tss.tsv',\n",
       " 'analysis/hTREM2/swan/hTREM2_KI_WT_F_vs_hTREM2_KI_HET_F_genotype_sex_du_tes.tsv',\n",
       " 'analysis/hTREM2/swan/hTREM2_KI_WT_F_vs_hTREM2_KI_HET_F_genotype_sex_du_ic.tsv',\n",
       " 'analysis/hTREM2/swan/hTREM2_KI_WT_F_vs_hTREM2_KI_HET_F_genotype_sex_du_iso.tsv',\n",
       " 'analysis/hTREM2/swan/hTREM2-R47HKI_HET_F_vs_hTREM2_KI_HET_F_genotype_sex_du_tss.tsv',\n",
       " 'analysis/hTREM2/swan/hTREM2-R47HKI_HET_F_vs_hTREM2_KI_HET_F_genotype_sex_du_tes.tsv',\n",
       " 'analysis/hTREM2/swan/hTREM2-R47HKI_HET_F_vs_hTREM2_KI_HET_F_genotype_sex_du_ic.tsv',\n",
       " 'analysis/hTREM2/swan/hTREM2-R47HKI_HET_F_vs_hTREM2_KI_HET_F_genotype_sex_du_iso.tsv']"
      ]
     },
     "execution_count": 5,
     "metadata": {},
     "output_type": "execute_result"
    }
   ],
   "source": [
    "# get_de_cfg_entries(p_df, config['analysis']['swan']['du'], how='du')\n",
    "# get_de_cfg_entries(p_df, config['analysis']['swan']['deg'], how='de'),\n",
    "# get_de_cfg_entries(p_df, config['analysis']['swan']['det'], how='de')"
   ]
  },
  {
   "cell_type": "code",
   "execution_count": 6,
   "id": "1a34597b-d365-48c9-9ef8-ab6900b6ec38",
   "metadata": {},
   "outputs": [
    {
     "data": {
      "text/plain": [
       "array(['1', '2', '3', '4', '5', '6', '7', '8', '9', '10', '11', '12',\n",
       "       '13', '14', '15', '16', '17', '18', '19'], dtype=object)"
      ]
     },
     "execution_count": 6,
     "metadata": {},
     "output_type": "execute_result"
    }
   ],
   "source": []
  },
  {
   "cell_type": "code",
   "execution_count": null,
   "id": "1c8aefe3-f877-436b-8e17-3bdd10bad3bc",
   "metadata": {},
   "outputs": [],
   "source": []
  },
  {
   "cell_type": "code",
   "execution_count": null,
   "id": "cfa7c489-2e1d-48d5-a19f-c55f7a1b0e70",
   "metadata": {},
   "outputs": [],
   "source": []
  },
  {
   "cell_type": "code",
   "execution_count": null,
   "id": "507a5fe2-93d4-49d7-b369-e3d75e47e098",
   "metadata": {},
   "outputs": [],
   "source": []
  },
  {
   "cell_type": "code",
   "execution_count": null,
   "id": "b99d02bd-c69f-4b10-9cd1-29dd8bb05be8",
   "metadata": {},
   "outputs": [],
   "source": []
  },
  {
   "cell_type": "code",
   "execution_count": null,
   "id": "3783d162-ca46-40ff-8692-68855a94523d",
   "metadata": {},
   "outputs": [],
   "source": []
  }
 ],
 "metadata": {
  "kernelspec": {
   "display_name": "Python 3",
   "language": "python",
   "name": "python3"
  },
  "language_info": {
   "codemirror_mode": {
    "name": "ipython",
    "version": 3
   },
   "file_extension": ".py",
   "mimetype": "text/x-python",
   "name": "python",
   "nbconvert_exporter": "python",
   "pygments_lexer": "ipython3",
   "version": "3.7.12"
  }
 },
 "nbformat": 4,
 "nbformat_minor": 5
}
